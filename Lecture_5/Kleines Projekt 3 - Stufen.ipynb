{
 "cells": [
  {
   "cell_type": "code",
   "execution_count": 1,
   "id": "9ad2b120",
   "metadata": {},
   "outputs": [
    {
     "data": {
      "text/html": "<style>.container { width:70% !important; }</style>",
      "text/plain": "<IPython.core.display.HTML object>"
     },
     "metadata": {},
     "output_type": "display_data"
    }
   ],
   "source": [
    "# print out each line in the input cell not only the last one\n",
    "from IPython.core.interactiveshell import InteractiveShell\n",
    "InteractiveShell.ast_node_interactivity = \"all\"\n",
    "\n",
    "# expand the cell width to 100% of t \n",
    "from IPython.core.display import display, HTML\n",
    "display(HTML(\"<style>.container { width:70% !important; }</style>\"))"
   ]
  },
  {
   "cell_type": "markdown",
   "id": "39eec0d4",
   "metadata": {},
   "source": [
    "# Kleines Projekt 3: Stufen Aufgabe"
   ]
  },
  {
   "cell_type": "code",
   "execution_count": 2,
   "id": "b2bfe81a",
   "metadata": {},
   "outputs": [],
   "source": [
    "w0, w1, w2, w3, x = var('w0', 'w1', 'w2', 'w3', 'x')\n",
    "\n",
    "model(x) = w0 + w1*x + w2*x**2 + w3*x**3\n",
    "\n",
    "stair_height = 0.2\n",
    "\n",
    "width = 1.2\n",
    "\n",
    "points = [(0, 50), (20, 47), (40, 43), (60, 38), (80, 32), (100, 25), (120, 17), (140, 8), (160, 6), (180, 2), (200, 0)]"
   ]
  },
  {
   "cell_type": "code",
   "execution_count": 3,
   "id": "4329f71f",
   "metadata": {},
   "outputs": [],
   "source": [
    "def plotPoints(points):\n",
    "    return list_plot(points)"
   ]
  },
  {
   "cell_type": "code",
   "execution_count": 4,
   "id": "26ef0a3f",
   "metadata": {},
   "outputs": [],
   "source": [
    "def createFunction(x, y):\n",
    "    return w0 + w1*x + w2*x**2 + w3*x**3 == y"
   ]
  },
  {
   "cell_type": "code",
   "execution_count": 5,
   "id": "e08545fe",
   "metadata": {},
   "outputs": [],
   "source": [
    "def getAllFunctions(points):\n",
    "    functions = []\n",
    "\n",
    "    for point in points:\n",
    "        functions.append(createFunction(point[0], point[1]))\n",
    "    \n",
    "    return functions"
   ]
  },
  {
   "cell_type": "code",
   "execution_count": 6,
   "id": "a0ecfe04",
   "metadata": {},
   "outputs": [],
   "source": [
    "def getExactSolution(points, model):\n",
    "    return solve(getAllFunctions(points), w0, w1, w2, w3)"
   ]
  },
  {
   "cell_type": "code",
   "execution_count": 7,
   "id": "7e6c8e9f",
   "metadata": {},
   "outputs": [],
   "source": [
    "def getApproxSolution(points, model):\n",
    "    return find_fit(points,model,solution_dict=True)"
   ]
  },
  {
   "cell_type": "code",
   "execution_count": 8,
   "id": "1433ef1d",
   "metadata": {},
   "outputs": [],
   "source": [
    "def plotPointsAndFunction(approx, points):\n",
    "    g = Graphics()\n",
    "\n",
    "    g = plot(approx[w0] + approx[w1]*x + approx[w2]*x**2 + approx[w3]*x**3, xmax = 200, ymax = 50)\n",
    "\n",
    "    for element in points:\n",
    "        g += point(element, color='red', size=30)\n",
    "\n",
    "    return g"
   ]
  },
  {
   "cell_type": "markdown",
   "id": "be09f55f",
   "metadata": {},
   "source": [
    "## Aufgabe 2"
   ]
  },
  {
   "cell_type": "code",
   "execution_count": 9,
   "id": "9cfbbff3",
   "metadata": {},
   "outputs": [],
   "source": [
    "def defineFunction(approx, x):\n",
    "    return approx[w0] + approx[w1]*x + approx[w2]*x**2 + approx[w3]*x**3"
   ]
  },
  {
   "cell_type": "code",
   "execution_count": 10,
   "id": "67bbd658",
   "metadata": {},
   "outputs": [],
   "source": [
    "def getDiffOfFunction(func):\n",
    "    return diff(func)"
   ]
  },
  {
   "cell_type": "code",
   "execution_count": 11,
   "id": "99a7b48f",
   "metadata": {},
   "outputs": [],
   "source": [
    "def getGradient(func, x):\n",
    "    return func(x)"
   ]
  },
  {
   "cell_type": "code",
   "execution_count": 12,
   "outputs": [],
   "source": [
    "def getGradientExact(func):\n",
    "    return [(round(solve(func == -1/3, x, solution_dict = true)[0][x], 20), round(solve(func == -1/3, x, solution_dict = true)[1][x], 20))]"
   ],
   "metadata": {
    "collapsed": false
   }
  },
  {
   "cell_type": "code",
   "execution_count": 29,
   "outputs": [],
   "source": [
    "def paintStairIntervals(intervals, approx):\n",
    "\n",
    "    g = Graphics()\n",
    "\n",
    "    g = plot(approx[w0] + approx[w1]*x + approx[w2]*x**2 + approx[w3]*x**3, xmax = 200, ymax = 50)\n",
    "\n",
    "\n",
    "    for interval in intervals:\n",
    "        g += plot(approx[w0] + approx[w1]*x + approx[w2]*x**2 + approx[w3]*x**3, color='red', xmin=interval[0], xmax=interval[1])\n",
    "\n",
    "    return g"
   ],
   "metadata": {
    "collapsed": false
   }
  },
  {
   "cell_type": "code",
   "execution_count": 14,
   "outputs": [],
   "source": [
    "## diese wird überflüssig sobald getGradientExact nicht nur noch auf ein Intervall beschränkt ist!\n",
    "def getAllStairsInterval(func):\n",
    "\n",
    "    startInterval = None\n",
    "\n",
    "    intervals = []\n",
    "\n",
    "    i = 0\n",
    "\n",
    "    while i <= 200:\n",
    "        gradient = abs(getGradient(func, i))\n",
    "\n",
    "        if gradient > 1/3 and startInterval == None:\n",
    "            startInterval = i\n",
    "\n",
    "        if gradient < 1/3 and startInterval != None:\n",
    "            intervals.append((startInterval, i))\n",
    "            startInterval = None\n",
    "\n",
    "        i += 0.01\n",
    "\n",
    "    return intervals"
   ],
   "metadata": {
    "collapsed": false
   }
  },
  {
   "cell_type": "code",
   "execution_count": 15,
   "outputs": [],
   "source": [
    "def getAllStairs(intervals, func):\n",
    "\n",
    "    allStairs = []\n",
    "\n",
    "    for interval in intervals:\n",
    "\n",
    "        difference = abs(getGradient(func, interval[0]) - getGradient(func, interval[1]))\n",
    "\n",
    "        amountOfStairs = difference / stair_height\n",
    "\n",
    "        averageLength = (interval[1] - interval[0]) / amountOfStairs\n",
    "\n",
    "\n",
    "        allStairs.append({'start' : interval[0], 'end': interval[1], 'length': averageLength, 'amountOfStairs': amountOfStairs, 'difference': difference})\n",
    "\n",
    "    return allStairs"
   ],
   "metadata": {
    "collapsed": false
   }
  },
  {
   "cell_type": "markdown",
   "source": [
    "## Aufgabe 3"
   ],
   "metadata": {
    "collapsed": false
   }
  },
  {
   "cell_type": "code",
   "execution_count": 16,
   "outputs": [],
   "source": [
    "def getLength(func, start, end):\n",
    "    return integral(sqrt(1 + (func) ** 2), x, start, end)"
   ],
   "metadata": {
    "collapsed": false
   }
  },
  {
   "cell_type": "code",
   "execution_count": 17,
   "outputs": [],
   "source": [
    "def getAsphaltLength(func, stairInterval):\n",
    "\n",
    "    length = getLength(func, 0, 200)\n",
    "\n",
    "    for interval in stairInterval:\n",
    "\n",
    "        length -= getLength(func, interval['start'], interval['end'])\n",
    "\n",
    "    return length"
   ],
   "metadata": {
    "collapsed": false
   }
  },
  {
   "cell_type": "markdown",
   "source": [
    "## Aufgabe 4"
   ],
   "metadata": {
    "collapsed": false
   }
  },
  {
   "cell_type": "code",
   "execution_count": 18,
   "outputs": [],
   "source": [
    "def costCalculationAsphalt(length):\n",
    "    return length * width * 20"
   ],
   "metadata": {
    "collapsed": false
   }
  },
  {
   "cell_type": "code",
   "execution_count": 19,
   "outputs": [],
   "source": [
    "def costCalculationStairs(intervals):\n",
    "    costs = 0\n",
    "\n",
    "    for interval in intervals:\n",
    "        costs += (interval['end'] - interval['start']) * width * 30\n",
    "\n",
    "    return costs"
   ],
   "metadata": {
    "collapsed": false
   }
  },
  {
   "cell_type": "markdown",
   "source": [
    "## MAIN PROGRAMM"
   ],
   "metadata": {
    "collapsed": false
   }
  },
  {
   "cell_type": "code",
   "execution_count": 30,
   "outputs": [
    {
     "data": {
      "image/png": "[encoded data removed]",
      "text/plain": "Graphics object consisting of 12 graphics primitives"
     },
     "execution_count": 30,
     "metadata": {},
     "output_type": "execute_result"
    },
    {
     "data": {
      "text/plain": "[(68.25873583808355, 127.11316619418382)]"
     },
     "execution_count": 30,
     "metadata": {},
     "output_type": "execute_result"
    },
    {
     "data": {
      "image/png": "[encoded data removed]",
      "text/plain": "Graphics object consisting of 2 graphics primitives"
     },
     "execution_count": 30,
     "metadata": {},
     "output_type": "execute_result"
    },
    {
     "data": {
      "text/plain": "[{'start': 68.25873583808355,\n  'end': 127.11316619418382,\n  'length': 0.5654715405330049,\n  'amountOfStairs': 104.08026954039981,\n  'difference': 20.81605390807996}]"
     },
     "execution_count": 30,
     "metadata": {},
     "output_type": "execute_result"
    },
    {
     "data": {
      "text/plain": "144.572199010600"
     },
     "execution_count": 30,
     "metadata": {},
     "output_type": "execute_result"
    },
    {
     "data": {
      "text/plain": "5588.49226907401"
     },
     "execution_count": 30,
     "metadata": {},
     "output_type": "execute_result"
    }
   ],
   "source": [
    "approx = getApproxSolution(points, model)\n",
    "\n",
    "f(x) = defineFunction(approx, x)\n",
    "\n",
    "f_2(x) = getDiffOfFunction(f)\n",
    "\n",
    "plotPointsAndFunction(approx, points)\n",
    "\n",
    "\n",
    "# intervals = getAllStairsInterval(f_2)\n",
    "intervals = getGradientExact(f_2)\n",
    "intervals\n",
    "paintStairIntervals(intervals, approx)\n",
    "\n",
    "intervals = getAllStairs(intervals, f)\n",
    "intervals\n",
    "\n",
    "length = getAsphaltLength(f_2, intervals)\n",
    "length\n",
    "\n",
    "costsAsphalt = costCalculationAsphalt(length)\n",
    "costsStairs = costCalculationStairs(intervals)\n",
    "\n",
    "combinedCosts = costsAsphalt + costsStairs\n",
    "combinedCosts\n",
    "\n"
   ],
   "metadata": {
    "collapsed": false
   }
  },
  {
   "cell_type": "code",
   "execution_count": null,
   "id": "21cfacd9",
   "metadata": {},
   "outputs": [],
   "source": []
  },
  {
   "cell_type": "code",
   "execution_count": null,
   "id": "97826d85",
   "metadata": {},
   "outputs": [],
   "source": []
  },
  {
   "cell_type": "code",
   "execution_count": null,
   "outputs": [],
   "source": [],
   "metadata": {
    "collapsed": false
   }
  }
 ],
 "metadata": {
  "kernelspec": {
   "display_name": "SageMath 9.5",
   "language": "sage",
   "name": "sagemath"
  },
  "language_info": {
   "codemirror_mode": {
    "name": "ipython",
    "version": 3
   },
   "file_extension": ".py",
   "mimetype": "text/x-python",
   "name": "python",
   "nbconvert_exporter": "python",
   "pygments_lexer": "ipython3",
   "version": "3.10.6"
  }
 },
 "nbformat": 4,
 "nbformat_minor": 5
}
