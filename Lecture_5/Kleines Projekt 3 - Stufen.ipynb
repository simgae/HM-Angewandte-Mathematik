{
 "cells": [
  {
   "cell_type": "code",
   "execution_count": 1,
   "id": "9ad2b120",
   "metadata": {},
   "outputs": [
    {
     "data": {
      "text/html": [
       "<style>.container { width:70% !important; }</style>"
      ],
      "text/plain": [
       "<IPython.core.display.HTML object>"
      ]
     },
     "metadata": {},
     "output_type": "display_data"
    }
   ],
   "source": [
    "# print out each line in the input cell not only the last one\n",
    "from IPython.core.interactiveshell import InteractiveShell\n",
    "InteractiveShell.ast_node_interactivity = \"all\"\n",
    "\n",
    "# expand the cell width to 70% of t \n",
    "from IPython.core.display import display, HTML\n",
    "display(HTML(\"<style>.container { width:70% !important; }</style>\"))"
   ]
  },
  {
   "cell_type": "markdown",
   "id": "39eec0d4",
   "metadata": {},
   "source": [
    "*Gruppe: Emils Bundzis, Chris Fröschl, Simon Gärtner*\n",
    "\n",
    "# Kleines Projekt 3: Stufen Aufgabe\n",
    "\n",
    "## Modellierung eines Stufenabschnittes an einem Berghang"
   ]
  },
  {
   "cell_type": "markdown",
   "id": "fc8c5ad9",
   "metadata": {},
   "source": [
    "# Dokumentation und SageMath Skript\n",
    "\n",
    "----\n",
    "\n",
    "*Wir haben uns dazu entschlossen, die Dokumentation in das SageMath Skript einzubinden. Daher finden Sie hier eine ausführliche Erklärung des Problems, des Skriptes, der Ergebnisse und der Arbeitsaufteilung.*"
   ]
  },
  {
   "cell_type": "markdown",
   "id": "7c702652",
   "metadata": {},
   "source": [
    "## Problembeschreibung\n",
    "---"
   ]
  },
  {
   "cell_type": "markdown",
   "id": "d1d79dbf",
   "metadata": {},
   "source": [
    "Diese Arbeit ist im Rahmen einer vierten Übungsaufgabe in der Vorlesung \"Angewandte Mathematik\" entstanden.\n",
    "\n",
    "Es soll ein Weg auf einen Hügel gepflastert bzw. asphaltiert werden. Dafür gibt es einige Anforderungen, welche den Entscheidungsweg zwischen Stufe und Asphalt bestimmen.\n",
    "\n",
    "Annahmen:\n",
    "\n",
    "- Der Weg muss 1,20 m breit sein.\n",
    "- Asphaltiert werden kann nur, wenn die Steigung kleiner als 1/3 ist\n",
    "- Die Stufen sind genau 0,20m hoch\n",
    "- Stufen müssen keine praktikable Länge haben\n",
    "- Hügelstruktur ist vorgegeben:\n",
    "    \n",
    "| Abstand von der Hügelspitze | Höhe des Hügels |\n",
    "|-----------------------------|-----------------|\n",
    "| 0                           | 50              |\n",
    "| 20                          | 47              |\n",
    "| 40                          | 43              |\n",
    "| 60                          | 38              |\n",
    "| 80                          | 32              |\n",
    "| 100                         | 25              |\n",
    "| 120                         | 17              |\n",
    "| 140                         | 8               |\n",
    "| 160                         | 6               |\n",
    "| 180                         | 2               |\n",
    "| 200                         | 0               |\n"
   ]
  },
  {
   "cell_type": "markdown",
   "id": "1d34d423",
   "metadata": {},
   "source": [
    "## Mathematisches Modell\n",
    "---"
   ]
  },
  {
   "cell_type": "markdown",
   "id": "6a7815a2",
   "metadata": {},
   "source": [
    "### Mathematische Problemformulierung\n",
    "\n",
    "Zur Darstellung der tatsächlichen Hügelstruktur (durch Tabellenwerte) müssen der Abstand von der Hügelspitze und die Höhe des Hügels gebündelt als Koordinaten abspeichert werden.\n",
    "\n",
    "Das Zahlenpaar (40, 43) bedeutet z.B., dass im horizontalen Abstand\n",
    "von 40m von der Hügelspitze der Hügel 43 m hoch ist.\n",
    "\n",
    "Diese Daten müssen daraufhin als Gleichungssystem der Struktur\n",
    "\n",
    "$$\n",
    "y = w_3 * x^3 + w_2 * x^2 + w_1 * x + w_0.\n",
    "$$\n",
    "\n",
    "dargestellt werden.\n",
    "\n",
    "Die Gleichungssysteme als Verbund sind jedoch nicht mit einem Polynom der 3. Ordnung lösbar. Um es exakt lösen zu können bräuchte man mindestens ein Polynom des Grades der Anzahl der Gleichungssysteme. Hier 11.\n",
    "\n",
    "Die Gleichungssysteme können jedoch mittels einer Annährung gelöst werden. Diese Methode heißt auch Methode der kleinsten Quadrate (eng. least square) und wird allgemein dazu verwendet, um eine Datensammlung mit möglich geringen Fehler anzunähern.\n",
    "\n",
    "![Bild 1](https://upload.wikimedia.org/wikipedia/commons/1/17/MDKQ1.svg)\n",
    "\n",
    "Um die Anzahl der benötigten Stufen zu bestimmen, wurde folgender Algorithmus ausgearbeitet:\n",
    "\n",
    "![Bild 2](get-all-stairs.png)\n",
    "\n",
    "\n",
    "1. Zunächst werden die Bereiche, in welchen die Steigung größer als 1/3 berechnet. Dies sind die Intervalle, in welchen Treppen platziert werden müssen. Dafür wird einfach die Ableitung der approximierten Funktion gebildet und als lineares Gleichungssystem auf > $1/3$ für die jeweiligen Intervalle aufgelöst.\n",
    "2. Von diesen Bereichen wird jeweils die Höhendifferenz bestimmt.\n",
    "3. Die Höhendifferenz wird dazu verwendet, um die durchschnittliche Länge und nötige Anzahl der Stufen mit der vom Setup gegebenen Stufenhöhe zu bestimmen\n",
    "4. Durch die nun gegebene Anzahl der Stufen kann die Länge der Stufen berechnet werden\n",
    "\n",
    "Da die letzte Stufe meistens in einer Gleitkommazahl endet, wird diese als einzige Stufe kürzer als ihre Vorgänger.\n",
    "\n",
    "Die Länge des asphaltierten Wegs ergibt sich aus der Differenz zu den bestuften Bereichen.\n",
    "\n",
    "Dabei lässt sich die Länge einer Kurve $y = f(x)$ im Bereich $[a, b] ⊆ R$ durch das Integral\n",
    "\n",
    "$$\n",
    "\\int_a^b \\sqrt{1 + (f'(x))^2}\n",
    "$$\n",
    "\n",
    "berechnen.\n",
    "\n",
    "### Verwendete Software für die Ergebnisberechnungen\n",
    "\n",
    "- SageMath"
   ]
  },
  {
   "cell_type": "markdown",
   "id": "302e6b96",
   "metadata": {},
   "source": [
    "## Implementierung in SageMath & Analyse und Deutung der Ergebnisse\n",
    "---\n",
    "\n",
    "### Aufgabe 1\n",
    "\n",
    "In Aufgabe 1 wird eine Funktion gesucht, die die gegebenen Punkte schneidet. Daher versuchen wir erst die Funktion exakt zu berechnen mit Hilfe eines Gleichungssystems. Wenn dies nicht zu einem Ergebnis führt, suchen wir eine Näherungslösung.\n",
    "\n",
    "---\n",
    "\n",
    "Im ersten Abschnitt der Implementierung werden alle benötigten Parameter definiert. So werden die fünf verschiedenen Variablen `w0` bis `w3` und `x` definiert.\n",
    "\n",
    "Anschließend wird der grundlegende Aufbau der Funktion definiert, die die Punkte näherungsweise darstellen soll. Dieser Aufbau wird in der Variablen `model` gespeichert.\n",
    "\n",
    "Anschließend werden verschiedene Parameter gemäß der Aufgabenstellung festgelegt. Hierzu gehört die Stufenhöhe (`stair_heigt`), die Breite des Weges (`width`) und die maximale Steigung für einen Asphaltweg (`max_gradient`).\n",
    "\n",
    "In der Liste `points` werden die Messpunkte aus der Aufgabenstellung abgespeichert."
   ]
  },
  {
   "cell_type": "code",
   "execution_count": 2,
   "id": "b2bfe81a",
   "metadata": {},
   "outputs": [],
   "source": [
    "# define all parameters\n",
    "w0, w1, w2, w3, x = var('w0', 'w1', 'w2', 'w3', 'x')\n",
    "\n",
    "# define approx model\n",
    "model(x) = w0 + w1*x + w2*x**2 + w3*x**3\n",
    "\n",
    "# define stair heigt\n",
    "stair_height = 0.2\n",
    "\n",
    "# define width of the street\n",
    "width = 1.2\n",
    "\n",
    "# define points\n",
    "points = [(0, 50), (20, 47), (40, 43), (60, 38), (80, 32), (100, 25), (120, 17), (140, 8), (160, 6), (180, 2), (200, 0)]\n",
    "\n",
    "# define max gradient\n",
    "max_gradient = 1/3"
   ]
  },
  {
   "cell_type": "markdown",
   "id": "154f2abd",
   "metadata": {},
   "source": [
    "Die Methode `createFunction(x, y)` definiert für die übergebenen x und y Werte eine Gleichung mit den unbekannten w's und gibt diese zurück."
   ]
  },
  {
   "cell_type": "code",
   "execution_count": 3,
   "id": "26ef0a3f",
   "metadata": {},
   "outputs": [],
   "source": [
    "def createFunction(x, y):\n",
    "    \"\"\"\n",
    "    Create function (polynom - thrid degree).\n",
    "    \n",
    "    Parameters:\n",
    "        x(float): defines the x value of the function.\n",
    "        \n",
    "        y(float): defines the y value of the function.\n",
    "        \n",
    "    Returns:\n",
    "        mathematical function: contains the defined values.\n",
    "    \"\"\"\n",
    "    return w0 + w1*x + w2*x**2 + w3*x**3 == y"
   ]
  },
  {
   "cell_type": "markdown",
   "id": "9aa88d2f",
   "metadata": {},
   "source": [
    "Die Methode `getAllFunctions(points)` erstellt für jeden Punkt in der Liste `points` eine Gleichung und fasst diese in einer Liste zusammen."
   ]
  },
  {
   "cell_type": "code",
   "execution_count": 4,
   "id": "e08545fe",
   "metadata": {},
   "outputs": [],
   "source": [
    "def getAllFunctions(points):\n",
    "    \"\"\"\n",
    "    Create a list with functions. For each point one. Have the unknown w0, w1, w2 and w3. Creates a list for a linear equation system.\n",
    "    \n",
    "    Prameters:\n",
    "        points(list): contains all specified points.\n",
    "        \n",
    "    Returns:\n",
    "        list: contains all functions for the linear equation system.\n",
    "    \"\"\"\n",
    "    functions = []\n",
    "\n",
    "    for point in points:\n",
    "        functions.append(createFunction(point[0], point[1]))\n",
    "    \n",
    "    return functions"
   ]
  },
  {
   "cell_type": "markdown",
   "id": "7ce38bd4",
   "metadata": {},
   "source": [
    "Die Methode `getExactSolution(points, model)` erstellt eine lineares Gleichungssystem aus den Punkten und dem Polynom dritten Grades und versucht diese exakt zu lösen."
   ]
  },
  {
   "cell_type": "code",
   "execution_count": 5,
   "id": "a0ecfe04",
   "metadata": {},
   "outputs": [],
   "source": [
    "def getExactSolution(points, model):\n",
    "    \"\"\"\n",
    "    Try to solve the linear equation system exactly.\n",
    "    \n",
    "    Parameters:\n",
    "        points(list): contains all specified points.\n",
    "        \n",
    "        model(mathematical function): plonomial third degree.\n",
    "        \n",
    "    Returns:\n",
    "        list: contains all values for w0, w1, w2 and w3.\n",
    "    \"\"\"\n",
    "    return solve(getAllFunctions(points), w0, w1, w2, w3)"
   ]
  },
  {
   "cell_type": "markdown",
   "id": "16f62a88",
   "metadata": {},
   "source": [
    "Da obige Methode zu keinem Ergebnis kommt, wird mit der Methode `getApproxSolution(points, model)` eine Näherungslösung gesucht und zurückgegeben. Die zurückgegebene Funktion liefert dann eine Funktion die bestmöglich alle Punkte schneidet."
   ]
  },
  {
   "cell_type": "code",
   "execution_count": 6,
   "id": "7e6c8e9f",
   "metadata": {},
   "outputs": [],
   "source": [
    "def getApproxSolution(points, model):\n",
    "    \"\"\"\n",
    "    If there is no excat solution solve the equation approximately.\n",
    "    \n",
    "      Parameters:\n",
    "        points(list): contains all specified points.\n",
    "        \n",
    "        model(mathematical function): plonomial third degree.\n",
    "        \n",
    "    Returns:\n",
    "        dict: contains all values for w0, w1, w2 and w3.\n",
    "    \"\"\"\n",
    "    return find_fit(points,model,solution_dict=True)"
   ]
  },
  {
   "cell_type": "markdown",
   "id": "625ad300",
   "metadata": {},
   "source": [
    "Die Methode `plotPointsAndFunction(approx, points)` bekommt die Näherungswerte `w0` bis `w3` und die Punktliste. Mit diesen Werten erstellt sie eine Funktion und plottet diese zusammen mit den Punkten."
   ]
  },
  {
   "cell_type": "code",
   "execution_count": 7,
   "id": "1433ef1d",
   "metadata": {},
   "outputs": [],
   "source": [
    "def plotPointsAndFunction(approx, points):\n",
    "    \"\"\"\n",
    "    Plot the approximated function and all the points.\n",
    "    \n",
    "    Parameters:\n",
    "        approx(dict): contains all approximated values for the function.\n",
    "        \n",
    "        points(list): contains all specified points.\n",
    "    \n",
    "    Returns:\n",
    "        graphical object: contains all plots.\n",
    "    \"\"\"\n",
    "    g = Graphics()\n",
    "    \n",
    "    g = plot(approx[w0] + approx[w1]*x + approx[w2]*x**2 + approx[w3]*x**3, xmax = 200, ymax = 50, legend_label='Approxmierte Funktion f', axes_labels=['Horizontal length', 'Height'], frame=True)\n",
    "\n",
    "    for element in points:\n",
    "        g += point(element, color='red', size=30)\n",
    "        \n",
    "    return g"
   ]
  },
  {
   "cell_type": "markdown",
   "id": "be09f55f",
   "metadata": {},
   "source": [
    "### Aufgabe 2\n",
    "\n",
    "In Aufgabe 2 wird der Bereich der Treppen ermittelt und analysiert. Zur Analyse gehört, wie viele Stufen benötigt werden, um diesen Bereich abzudecken und wie lang diese Stufen sein müssen.\n",
    "\n",
    "---\n",
    "\n",
    "Die Methode `defineFunction(approx, x)` bekommt die Werte für `w0` bis `w3` und erstellt daraus eine Funktion. Diese Funktion wird dann zurückgeliefert."
   ]
  },
  {
   "cell_type": "code",
   "execution_count": 8,
   "id": "9cfbbff3",
   "metadata": {},
   "outputs": [],
   "source": [
    "def defineFunction(approx, x):\n",
    "    \"\"\"\n",
    "    Calculate function using an approxmation dictonary.\n",
    "    \n",
    "    Parmeters:\n",
    "        approx(dict): Dictonary of approxmation values for the coefficients.\n",
    "        \n",
    "        x(float): The input value for which the function will be evaluated.\n",
    "    \n",
    "    Returns:\n",
    "        float: value of function or function itself when x is trasmitted for x\n",
    "    \n",
    "    \"\"\"\n",
    "    return approx[w0] + approx[w1]*x + approx[w2]*x**2 + approx[w3]*x**3"
   ]
  },
  {
   "cell_type": "markdown",
   "id": "7d23e918",
   "metadata": {},
   "source": [
    "Die Methode `getDiffOfFunction(func)` berechnet die Ableitungsfunktion der übergebenen Funktion."
   ]
  },
  {
   "cell_type": "code",
   "execution_count": 9,
   "id": "67bbd658",
   "metadata": {},
   "outputs": [],
   "source": [
    "def getDiffOfFunction(func):\n",
    "    \"\"\"\n",
    "    Calcuate the derivation of a function.\n",
    "    \n",
    "    Parameters:\n",
    "        func(mathematical function): Function which should be derive.\n",
    "        \n",
    "    Returns:\n",
    "        mathematical function: derivation of the transmitted function.\n",
    "    \"\"\"\n",
    "    return diff(func)"
   ]
  },
  {
   "cell_type": "markdown",
   "id": "cfb062ce",
   "metadata": {},
   "source": [
    "Die Methode `getGradient(func, x)` setzt den übergebenen x Wert in die übergebene Funktion ein und liefert das Ergebnis zurück. "
   ]
  },
  {
   "cell_type": "code",
   "execution_count": 10,
   "id": "99a7b48f",
   "metadata": {},
   "outputs": [],
   "source": [
    "def getGradient(func, x):\n",
    "    \"\"\"\n",
    "    Claculate value of a function at a specific point.\n",
    "    \n",
    "    Parameters:\n",
    "        func(mathematical function): function which should be evaluated.\n",
    "        \n",
    "        x(float): specifc x value.\n",
    "    \n",
    "    Returns:\n",
    "        float: y value of function at the definied x value.\n",
    "    \"\"\"\n",
    "    return func(x)"
   ]
  },
  {
   "cell_type": "markdown",
   "id": "ccd44b77",
   "metadata": {},
   "source": [
    "Die Methode `getMaxGradient(func, a, b)` berechnet das lokale Minimum in einem übergebenen Intervall."
   ]
  },
  {
   "cell_type": "code",
   "execution_count": 11,
   "id": "13c8152e",
   "metadata": {},
   "outputs": [],
   "source": [
    "def getMaxGradient(func, a, b):\n",
    "    \"\"\"\n",
    "    Calculate the maximum of a function.\n",
    "    \n",
    "    Parameters:\n",
    "        func(mathematical function): function which should be evaluated.\n",
    "        \n",
    "        a(float): start value of evaluated interval.\n",
    "        \n",
    "        b(float): start value of evaluated interval.\n",
    "        \n",
    "    Return:\n",
    "        tupel: coordinates of maximum.\n",
    "    \"\"\"\n",
    "    return find_local_minimum(func, a, b)"
   ]
  },
  {
   "cell_type": "markdown",
   "id": "945b7351",
   "metadata": {},
   "source": [
    "Die Methode `getMinMaxOfPoints(points)` berechnet den maximalen und minimalen x Wert der Punktliste."
   ]
  },
  {
   "cell_type": "code",
   "execution_count": 12,
   "id": "652e549d",
   "metadata": {},
   "outputs": [],
   "source": [
    "def getMinMaxOfPoints(points):\n",
    "    \"\"\"\n",
    "    Calculate the min x value and the max x value.\n",
    "    \n",
    "    Parameters:\n",
    "        points(list): list which cointains all points\n",
    "    \n",
    "    Returns:\n",
    "        tupel: fst value min x value and snd value max x value\n",
    "    \"\"\"\n",
    "    min_x = 0\n",
    "    max_x = 0\n",
    "    \n",
    "    for point in points:\n",
    "        min_x = min(point[0], min_x)\n",
    "        max_x = max(point[0], max_x)\n",
    "    \n",
    "    return (min_x, max_x)"
   ]
  },
  {
   "cell_type": "markdown",
   "id": "244b4839",
   "metadata": {},
   "source": [
    "Die Methode `getGradientExact(func, max_gradient, points)` berechnet die Intervalle, in denen die Steigung größer oder gleich der übergebenen Steigung `max_gradient` ist und gibt diese als Tupel in einer Liste zurück."
   ]
  },
  {
   "cell_type": "code",
   "execution_count": 13,
   "id": "603afd3c",
   "metadata": {},
   "outputs": [],
   "source": [
    "def getGradientExact(func, max_gradient, points):\n",
    "    \"\"\"\n",
    "    Calculate intervals where the gradient is bigger or equal 1/3.\n",
    "    \n",
    "    Parameters:\n",
    "        func(mathematical function): function which schould be evaluated.\n",
    "        \n",
    "    Returns:\n",
    "        list: contains all intervals where the gradient is bigger or equal 1/3.\n",
    "    \"\"\"\n",
    "    max_values = getMinMaxOfPoints(points)\n",
    "    \n",
    "    intervals = []\n",
    "       \n",
    "    if max_gradient <= abs(getMaxGradient(func, max_values[0], max_values[1])[0]):\n",
    "    \n",
    "        sol = solve(func == max_gradient * -1, x, solution_dict = True)\n",
    "\n",
    "        for index in range(0, len(sol), 2):\n",
    "            x_min_value = round(sol[index][x], 20)                       \n",
    "            x_max_value = round(sol[index+1][x], 20)\n",
    "                        \n",
    "            if x_min_value < max_values[0]:\n",
    "                x_min_value = max_values[0]\n",
    "            \n",
    "            if x_max_value > max_values[1] - 1:\n",
    "                x_max_value = max_values[1]\n",
    "                \n",
    "            intervals.append((x_min_value, x_max_value))\n",
    "        \n",
    "    return intervals"
   ]
  },
  {
   "cell_type": "markdown",
   "id": "1c8fc3da",
   "metadata": {},
   "source": [
    "Die Methode `getAllStairs(intervals, func)` berechnet zu jedem Treppenintervall alle Informationen. Hierzu gehören neben dem Start und End x-Wert, der Höhenunterschied, die Anzahl der Stufen und die Länge der Stufen."
   ]
  },
  {
   "cell_type": "code",
   "execution_count": 14,
   "id": "7546e626",
   "metadata": {},
   "outputs": [],
   "source": [
    "def getAllStairs(intervals, func):\n",
    "    \"\"\"\n",
    "    Calculate and collect all information about the stair intervals.\n",
    "    \n",
    "    Parameters:\n",
    "        intervals(list): contains start and end point of stair interval.\n",
    "        \n",
    "        func (mathematical function): function in which the stairs are.\n",
    "    \n",
    "    Returns:\n",
    "        list[dict]: returns a list which include a dictonary with all information about one stair interval.\n",
    "    \"\"\"\n",
    "\n",
    "    allStairs = []\n",
    "\n",
    "    for interval in intervals:\n",
    "\n",
    "        difference = abs(getGradient(func, interval[0]) - getGradient(func, interval[1]))\n",
    "\n",
    "        amountOfStairs = difference / stair_height\n",
    "\n",
    "        averageLength = (interval[1] - interval[0]) / amountOfStairs\n",
    "\n",
    "        allStairs.append({'start' : interval[0], 'end': interval[1], 'stair_length': averageLength, 'amountOfStairs': amountOfStairs, 'difference': difference})\n",
    "\n",
    "    return allStairs"
   ]
  },
  {
   "cell_type": "markdown",
   "id": "8331d95b",
   "metadata": {},
   "source": [
    "Die Methode `printInformationAsTable(intervals, stair_height)` bekommt alle Informationen über die Stufenintervalle und erstellt eine Tabelle, die alle Informationen nochmal visualisiert. Hierbei werden die Werte auch noch einmal angepasst, dass es z.B. nur eine ganze Anzahl an Stufen gibt. Mit dieser Anpassung werden auch die Längen der Stufen angepasst."
   ]
  },
  {
   "cell_type": "code",
   "execution_count": 15,
   "id": "8ab86856",
   "metadata": {},
   "outputs": [],
   "source": [
    "def printInformationAsTable(intervals, stair_height):\n",
    "    \"\"\"\n",
    "    Create a table with all stair information.\n",
    "    Contains:   - height of stair\n",
    "                - length of stair\n",
    "                - amount of stairs with this properties\n",
    "    \n",
    "    Parameter:\n",
    "        intervals(list[dict]): contains all information about the stair intervals.\n",
    "        \n",
    "        stair_height(float): defines the height of the stairs (global variable).\n",
    "        \n",
    "    Returns:\n",
    "        Table: with the properties of all stairs.\n",
    "    \"\"\"\n",
    "    \n",
    "    content = []\n",
    "    \n",
    "    for interval in intervals:\n",
    "        full_stairs = floor(interval['amountOfStairs'])\n",
    "        roundLength = round(interval['stair_length'], 2)\n",
    "                \n",
    "        content.append([round(stair_height, 2), roundLength, full_stairs])\n",
    "        \n",
    "        smallerLength = interval['stair_length'] * (interval['amountOfStairs']- full_stairs)\n",
    "        smallerLength = round(smallerLength, 2)\n",
    "        \n",
    "        content.append([round(stair_height, 2), smallerLength, 1])\n",
    "    \n",
    "    return table(content, header_row=['Stair height', 'Stair Length', 'Amount'], frame=True, align='center')"
   ]
  },
  {
   "cell_type": "markdown",
   "id": "03ae4fb3",
   "metadata": {},
   "source": [
    "Die Methode `paintStairIntervals(intervals, approx)` gibt die Funktion als Plot aus und kennzeichnet in diesem das Stufenintervall."
   ]
  },
  {
   "cell_type": "code",
   "execution_count": 16,
   "id": "5afefff7",
   "metadata": {},
   "outputs": [],
   "source": [
    "def paintStairIntervals(intervals, approx):\n",
    "    \"\"\"\n",
    "    Plot the approximate function and mark the stairs area.\n",
    "    \n",
    "    Parameters:\n",
    "    \n",
    "        intervals(list): contains all information about the stair intervals.\n",
    "        \n",
    "        approx(dict): approxmiate coefficients of function.\n",
    "    \n",
    "    Returns:\n",
    "        graphical object: contains all plots.\n",
    "    \"\"\"\n",
    "\n",
    "    g = Graphics()\n",
    "\n",
    "    g = plot(approx[w0] + approx[w1]*x + approx[w2]*x**2 + approx[w3]*x**3, xmax = 200, ymax = 50, legend_label='Approxmierte Funktion f', axes_labels=['Horizontal length', 'Height'], frame=True)\n",
    "\n",
    "\n",
    "    for interval in intervals:\n",
    "        g += plot(approx[w0] + approx[w1]*x + approx[w2]*x**2 + approx[w3]*x**3, color='red', xmin=interval[0], xmax=interval[1], thickness = 2, legend_label='Steigung zu groß für Asphalt', axes_labels=['Horizontal length', 'Height'], frame=True)\n",
    "\n",
    "    return g"
   ]
  },
  {
   "cell_type": "markdown",
   "id": "ec61dc8d",
   "metadata": {},
   "source": [
    "Die Methode `plotBothFunctions(approx)` plottet einmal die übergebene Funktion und deren Ableitungsfunktion in einen Plot."
   ]
  },
  {
   "cell_type": "code",
   "execution_count": 17,
   "id": "ae557dd7",
   "metadata": {},
   "outputs": [],
   "source": [
    "def plotBothFunctions(approx):\n",
    "    \"\"\"\n",
    "    Plot two functions. The transmitted one and the derivation of this function.\n",
    "    \n",
    "    Parmeters:\n",
    "        approx(dict): approxmiate coefficients of function.\n",
    "        \n",
    "    Returns:\n",
    "        graphical object: contains all plots.\n",
    "    \"\"\"\n",
    "    g = Graphics()\n",
    "    h = Graphics()\n",
    "    \n",
    "    g = plot(approx[w0] + approx[w1]*x + approx[w2]*x**2 + approx[w3]*x**3, xmax = 200, ymax = 50, ymin = -10, thickness = 2, legend_label='Approximierte Funktion f', axes_labels=['Horizontal length', 'Height'], frame=True)\n",
    "\n",
    "    g += plot(diff(approx[w0] + approx[w1]*x + approx[w2]*x**2 + approx[w3]*x**3), xmax = 200, ymax = 50, ymin = -10, color='red', thickness = 2, legend_label='Abgeleitete Funktion von f', axes_labels=['Horizontal length', 'Height'], frame=True)\n",
    "    h =  plot(diff(approx[w0] + approx[w1]*x + approx[w2]*x**2 + approx[w3]*x**3), color='red', thickness = 1, xmax = 200, xmin = 0, ymax = 1, ymin = -1)\n",
    "    \n",
    "    return g.inset(h, pos=(0.15, 0.25, 0.3, 0.3))"
   ]
  },
  {
   "cell_type": "markdown",
   "id": "e9b6c9d1",
   "metadata": {},
   "source": [
    "### Aufgabe 3\n",
    "\n",
    "In Aufgabe 3 werden die entsprechenden Längen berechnet für die Asphaltstraße. Hierfür wird die vorgegebene Funktion verwendet. \n",
    "\n",
    "---"
   ]
  },
  {
   "cell_type": "markdown",
   "id": "982331a3",
   "metadata": {},
   "source": [
    "Die Methode `getLength(func, start, end)` ermittelt die Länge der Funktion zwischen einem `start` und einem `end` Wert."
   ]
  },
  {
   "cell_type": "code",
   "execution_count": 18,
   "id": "441206e2",
   "metadata": {},
   "outputs": [],
   "source": [
    "def getLength(func, start, end):\n",
    "    \"\"\"\n",
    "    Calculate the length of the function in a specific interval.\n",
    "    \n",
    "    Parameters:\n",
    "        func(mathematical function): function which should be measured.\n",
    "        \n",
    "        start(float): starting x point.\n",
    "        \n",
    "        end(float): end x point.\n",
    "    \n",
    "    Returns:\n",
    "        float: length of the function in this interval.\n",
    "    \"\"\"\n",
    "    return integral(sqrt(1 + (func) ** 2), x, start, end)"
   ]
  },
  {
   "cell_type": "markdown",
   "id": "55b7fe20",
   "metadata": {},
   "source": [
    "Die Methode `getAsphaltLength(func, stairInterval)` berechnet die Länge des Asphalt. Hierfür wird zuerst die Gesamtlänge berechnet und anschließend die Stufenintervalle wieder abgezogen."
   ]
  },
  {
   "cell_type": "code",
   "execution_count": 19,
   "id": "f49f87a9",
   "metadata": {},
   "outputs": [],
   "source": [
    "def getAsphaltLength(func, stairInterval):\n",
    "    \"\"\"\n",
    "    Calculate the length of the asphalt street.\n",
    "    \n",
    "    Parameters:\n",
    "        func(mathematical function): function which should be measured.\n",
    "        \n",
    "        stairInterval(list[dict]): list with all stair intervals -> no asphalt.\n",
    "        \n",
    "    Returns:\n",
    "        float: length of asphalt.\n",
    "    \"\"\"\n",
    "\n",
    "    max_values = getMinMaxOfPoints(points)\n",
    "    \n",
    "    length = getLength(func, max_values[0], max_values[1])\n",
    "\n",
    "    for interval in stairInterval:\n",
    "\n",
    "        length -= getLength(func, interval['start'], interval['end'])\n",
    "\n",
    "    return length"
   ]
  },
  {
   "cell_type": "markdown",
   "id": "32e3cfbf",
   "metadata": {},
   "source": [
    "### Aufgabe 4\n",
    "\n",
    "- Asphaltieren: 20 EUR/Quadratmeter\n",
    "- Stufen: 30 EUR/Quadratmeter (nur horizontale Fläche)\n",
    "\n",
    "Da die Länge des Asphalts schon in Aufgabe 3 berechnet wurde, kann der Preis ganz einfach berechnet werden:\n",
    "\n",
    "$$\n",
    "Preis Asphalt = AsphaltLänge * Wegbreite * AsphaltPreis\n",
    "$$\n",
    "\n",
    "Die Kosten der Stufen ist hier selbstverständlich an die zuvor berechneten Stufenintervalle aus Aufgabe 2 gebunden. Dabei iterieren wir über die Intervalle und summieren pro Intervall\n",
    "\n",
    "$$\n",
    "IntervallKosten = ( IntervallEnde - IntervallBeginn ) * Wegbreite * 30\n",
    "$$\n"
   ]
  },
  {
   "cell_type": "markdown",
   "id": "c5bdcc80",
   "metadata": {},
   "source": [
    "---\n",
    "\n",
    "Die Methode `costCalculationAsphalt(length, width)` berechnet aus der Festgelegten Weglänge und der Breite des Weges die Kosten für den Asphalt."
   ]
  },
  {
   "cell_type": "code",
   "execution_count": 20,
   "id": "4d8b58fe",
   "metadata": {},
   "outputs": [],
   "source": [
    "def costCalculationAsphalt(length, width):\n",
    "    \"\"\"\n",
    "    Calculate costs of asphalt.\n",
    "    \n",
    "    Parameters:\n",
    "        length(float): length of asphalt.\n",
    "        \n",
    "        width(float): width of the street.\n",
    "        \n",
    "    Returns:\n",
    "        float: costs of asphalt -> rounded of two decimal places.\n",
    "    \"\"\"\n",
    "    return round(length * width * 20, 2)"
   ]
  },
  {
   "cell_type": "markdown",
   "id": "f9ba0c48",
   "metadata": {},
   "source": [
    "Die Methode `costCalculationStairs(intervals, width)` berechnet die Kosten für die Stufen. Hierfür wird die Länge der Stufen aufaddiert und mit der Breite und dem Preis verrechnet."
   ]
  },
  {
   "cell_type": "code",
   "execution_count": 21,
   "id": "85e9779b",
   "metadata": {},
   "outputs": [],
   "source": [
    "def costCalculationStairs(intervals, width):\n",
    "    \"\"\"\n",
    "    Calculate costs of stairs.\n",
    "    \n",
    "    Parameters:\n",
    "        intervals(list[dict]): contains all information about one stair interval.\n",
    "        \n",
    "        width(float): width of the street.\n",
    "    \n",
    "    Returns:\n",
    "        float: costs of the stairs -> rounded of two decimal places.\n",
    "    \"\"\"\n",
    "    costs = 0\n",
    "\n",
    "    for interval in intervals:\n",
    "        costs += (interval['end'] - interval['start']) * width * 30\n",
    "\n",
    "    return round(costs, 2)"
   ]
  },
  {
   "cell_type": "markdown",
   "id": "72dc474e",
   "metadata": {},
   "source": [
    "## Ablauf komplettes Programm inkl. Ergebnisse"
   ]
  },
  {
   "cell_type": "markdown",
   "id": "786ea601",
   "metadata": {},
   "source": [
    "### Hügelpunkte plotten und durch Polynom dritten Grades approximieren"
   ]
  },
  {
   "cell_type": "code",
   "execution_count": 22,
   "id": "2a86666f",
   "metadata": {},
   "outputs": [
    {
     "name": "stdout",
     "output_type": "stream",
     "text": [
      "Approximierte Funktion:\n"
     ]
    },
    {
     "data": {
      "text/plain": [
       "x |--> (1.175213765043847e-05)*x^3 - 0.003444056228566775*x^2 - 0.02742810366645668*x + 49.46853109925234"
      ]
     },
     "execution_count": 22,
     "metadata": {},
     "output_type": "execute_result"
    }
   ],
   "source": [
    "approx = getApproxSolution(points, model)\n",
    "f(x) = defineFunction(approx, x)\n",
    "\n",
    "print('Approximierte Funktion:')\n",
    "f"
   ]
  },
  {
   "cell_type": "markdown",
   "id": "355ba061",
   "metadata": {},
   "source": [
    "### Funktion f ableiten, um Steigung an unterschiedlichen Punkten zu ermitteln"
   ]
  },
  {
   "cell_type": "code",
   "execution_count": 23,
   "id": "3868c8cd",
   "metadata": {},
   "outputs": [
    {
     "name": "stdout",
     "output_type": "stream",
     "text": [
      "Abgeleitete Funktion f:\n"
     ]
    },
    {
     "data": {
      "text/plain": [
       "x |--> (3.525641295131541e-05)*x^2 - 0.00688811245713355*x - 0.02742810366645668"
      ]
     },
     "execution_count": 23,
     "metadata": {},
     "output_type": "execute_result"
    }
   ],
   "source": [
    "f_2(x) = getDiffOfFunction(f)\n",
    "\n",
    "print('Abgeleitete Funktion f:')\n",
    "f_2"
   ]
  },
  {
   "cell_type": "markdown",
   "id": "cfce45de",
   "metadata": {},
   "source": [
    "### Funktion f mit Hügel-Punkte plotten"
   ]
  },
  {
   "cell_type": "code",
   "execution_count": 24,
   "id": "ad13be89",
   "metadata": {},
   "outputs": [
    {
     "name": "stdout",
     "output_type": "stream",
     "text": [
      "Funktion f mit Hügelpunkten:\n"
     ]
    },
    {
     "data": {
      "image/png": "[encoded data removed]",
      "text/plain": [
       "Graphics object consisting of 12 graphics primitives"
      ]
     },
     "execution_count": 24,
     "metadata": {},
     "output_type": "execute_result"
    }
   ],
   "source": [
    "print('Funktion f mit Hügelpunkten:')\n",
    "plotPointsAndFunction(approx, points)"
   ]
  },
  {
   "cell_type": "markdown",
   "id": "28be4f8c",
   "metadata": {},
   "source": [
    "### Funktion f und deren Ableitung f' in einem Plot darstellen"
   ]
  },
  {
   "cell_type": "code",
   "execution_count": 25,
   "id": "850aaa78",
   "metadata": {},
   "outputs": [
    {
     "name": "stdout",
     "output_type": "stream",
     "text": [
      "Funktion f und deren Ableitungsfunktion:\n"
     ]
    },
    {
     "data": {
      "image/png": "[encoded data removed]",
      "text/plain": [
       "Multigraphics with 2 elements"
      ]
     },
     "execution_count": 25,
     "metadata": {},
     "output_type": "execute_result"
    }
   ],
   "source": [
    "print('Funktion f und deren Ableitungsfunktion:')\n",
    "\n",
    "plotBothFunctions(approx)"
   ]
  },
  {
   "cell_type": "markdown",
   "id": "b814d332",
   "metadata": {},
   "source": [
    "### Bereich der Funktion f berechnen, in denen die Steigung zu groß ist"
   ]
  },
  {
   "cell_type": "code",
   "execution_count": 26,
   "id": "3ba49e97",
   "metadata": {},
   "outputs": [
    {
     "name": "stdout",
     "output_type": "stream",
     "text": [
      "Intervalle in denen die Steigung zu groß für Asphalt ist:\n"
     ]
    },
    {
     "data": {
      "text/plain": [
       "[(68.25873583808355, 127.11316619418382)]"
      ]
     },
     "execution_count": 26,
     "metadata": {},
     "output_type": "execute_result"
    },
    {
     "name": "stdout",
     "output_type": "stream",
     "text": [
      "Intervall markiert im Plot:\n"
     ]
    },
    {
     "data": {
      "image/png": "[encoded data removed]",
      "text/plain": [
       "Graphics object consisting of 2 graphics primitives"
      ]
     },
     "execution_count": 26,
     "metadata": {},
     "output_type": "execute_result"
    }
   ],
   "source": [
    "intervals = getGradientExact(f_2, max_gradient, points)\n",
    "\n",
    "print('Intervalle in denen die Steigung zu groß für Asphalt ist:')\n",
    "intervals\n",
    "\n",
    "print('Intervall markiert im Plot:')\n",
    "paintStairIntervals(intervals, approx)"
   ]
  },
  {
   "cell_type": "markdown",
   "id": "3365bc9f",
   "metadata": {},
   "source": [
    "### Ermittlung genauerer Informationen zu den einzelnen Stufenintervallen"
   ]
  },
  {
   "cell_type": "code",
   "execution_count": 27,
   "id": "baa075af",
   "metadata": {},
   "outputs": [
    {
     "name": "stdout",
     "output_type": "stream",
     "text": [
      "Exakte Informationen zu jedem Stufenintervall:\n"
     ]
    },
    {
     "data": {
      "text/plain": [
       "[{'start': 68.25873583808355,\n",
       "  'end': 127.11316619418382,\n",
       "  'stair_length': 0.5654715405330049,\n",
       "  'amountOfStairs': 104.08026954039981,\n",
       "  'difference': 20.81605390807996}]"
      ]
     },
     "execution_count": 27,
     "metadata": {},
     "output_type": "execute_result"
    },
    {
     "name": "stdout",
     "output_type": "stream",
     "text": [
      "Ausgabe als Tabelle: \n"
     ]
    },
    {
     "data": {
      "text/html": [
       "<div class=\"notruncate\">\n",
       "<table border=\"1\" class=\"table_form\">\n",
       "<tbody>\n",
       "<tr>\n",
       "<th>Stair height</th>\n",
       "<th>Stair Length</th>\n",
       "<th>Amount</th>\n",
       "</tr>\n",
       "<tr class =\"row-a\">\n",
       "<td><script type=\"math/tex\">0.2</script></td>\n",
       "<td><script type=\"math/tex\">0.57</script></td>\n",
       "<td><script type=\"math/tex\">104</script></td>\n",
       "</tr>\n",
       "<tr class =\"row-b\">\n",
       "<td><script type=\"math/tex\">0.2</script></td>\n",
       "<td><script type=\"math/tex\">0.05</script></td>\n",
       "<td><script type=\"math/tex\">1</script></td>\n",
       "</tr>\n",
       "</tbody>\n",
       "</table>\n",
       "</div>"
      ],
      "text/plain": [
       "+--------------+--------------+--------+\n",
       "| Stair height | Stair Length | Amount |\n",
       "+==============+==============+========+\n",
       "|     0.2      |     0.57     |  104   |\n",
       "+--------------+--------------+--------+\n",
       "|     0.2      |     0.05     |   1    |\n",
       "+--------------+--------------+--------+"
      ]
     },
     "execution_count": 27,
     "metadata": {},
     "output_type": "execute_result"
    }
   ],
   "source": [
    "intervals = getAllStairs(intervals, f)\n",
    "\n",
    "print('Exakte Informationen zu jedem Stufenintervall:')\n",
    "intervals\n",
    "\n",
    "print('Ausgabe als Tabelle: ')\n",
    "printInformationAsTable(intervals, stair_height)"
   ]
  },
  {
   "cell_type": "markdown",
   "id": "cbfde9ce",
   "metadata": {},
   "source": [
    "### Ermittlung der Asphaltlänge"
   ]
  },
  {
   "cell_type": "code",
   "execution_count": 28,
   "id": "f6e50f46",
   "metadata": {},
   "outputs": [
    {
     "name": "stderr",
     "output_type": "stream",
     "text": [
      "// Giac share root-directory:/usr/share/giac/\n",
      "// Giac share root-directory:/usr/share/giac/\n",
      "Added 0 synonyms\n"
     ]
    },
    {
     "name": "stdout",
     "output_type": "stream",
     "text": [
      "Länge auf der aphaltiert werden muss:\n"
     ]
    },
    {
     "data": {
      "text/plain": [
       "144.57"
      ]
     },
     "execution_count": 28,
     "metadata": {},
     "output_type": "execute_result"
    }
   ],
   "source": [
    "length = getAsphaltLength(f_2, intervals)\n",
    "\n",
    "print('Länge auf der aphaltiert werden muss:')\n",
    "round(length, 2)"
   ]
  },
  {
   "cell_type": "markdown",
   "id": "b2bc11b4",
   "metadata": {},
   "source": [
    "### Kostenermittlung für Asphalt und Stufen"
   ]
  },
  {
   "cell_type": "code",
   "execution_count": 29,
   "id": "c3784127",
   "metadata": {},
   "outputs": [
    {
     "name": "stdout",
     "output_type": "stream",
     "text": [
      "Kosten für Asphalt:\n"
     ]
    },
    {
     "data": {
      "text/plain": [
       "3469.73"
      ]
     },
     "execution_count": 29,
     "metadata": {},
     "output_type": "execute_result"
    },
    {
     "name": "stdout",
     "output_type": "stream",
     "text": [
      "Kosten für Stufen:\n"
     ]
    },
    {
     "data": {
      "text/plain": [
       "2118.76"
      ]
     },
     "execution_count": 29,
     "metadata": {},
     "output_type": "execute_result"
    }
   ],
   "source": [
    "costsAsphalt = costCalculationAsphalt(length, width)\n",
    "costsStairs = costCalculationStairs(intervals, width)\n",
    "\n",
    "print('Kosten für Asphalt:')\n",
    "costsAsphalt\n",
    "\n",
    "print('Kosten für Stufen:')\n",
    "costsStairs"
   ]
  },
  {
   "cell_type": "markdown",
   "id": "5be78820",
   "metadata": {},
   "source": [
    "### Gesamtkosten"
   ]
  },
  {
   "cell_type": "code",
   "execution_count": 30,
   "id": "768206ef",
   "metadata": {},
   "outputs": [
    {
     "name": "stdout",
     "output_type": "stream",
     "text": [
      "Gesamtkosten:\n"
     ]
    },
    {
     "data": {
      "text/plain": [
       "5588.49"
      ]
     },
     "execution_count": 30,
     "metadata": {},
     "output_type": "execute_result"
    }
   ],
   "source": [
    "combinedCosts = costsAsphalt + costsStairs\n",
    "\n",
    "print('Gesamtkosten:')\n",
    "combinedCosts"
   ]
  },
  {
   "cell_type": "markdown",
   "id": "2a0f68b2",
   "metadata": {},
   "source": [
    "### Tool für variable Auswertung\n",
    "\n",
    "---\n",
    "\n",
    "Dieses Tool lässt das Programm nochmal durchlaufen, allerdings kann man die festgelegten Werte `stair_heigt`, `width` und `max_gradient` variable über die Slider unten festlegen. Nach einer Änderung an den Slidern berechnet die Methode alle Dinge erneut und gibt die wichtigsten Informationen aus."
   ]
  },
  {
   "cell_type": "code",
   "execution_count": 31,
   "id": "2022c1ce",
   "metadata": {},
   "outputs": [
    {
     "name": "stderr",
     "output_type": "stream",
     "text": [
      "Widget Javascript not detected.  It may not be installed or enabled properly. Reconnecting the current kernel may help.\n"
     ]
    },
    {
     "data": {
      "application/vnd.jupyter.widget-view+json": {
       "model_id": "c9f53d9a2af74dee93d06161b14c2268"
      }
     },
     "metadata": {},
     "output_type": "display_data"
    }
   ],
   "source": [
    "@interact\n",
    "def analyse(Max_Gradient=(0, 1, 0.01), Width=(1, 10, 0.1), Stair_Height=(0, 1, 0.1)):\n",
    "    \"\"\"\n",
    "    Analyse tool for variable gradient.\n",
    "    \n",
    "    Parameters:\n",
    "        Max_Gradient(float): content of slider to perform calculation again with new gradient.\n",
    "        \n",
    "    Returns:\n",
    "        Table: contain all information about the stairs\n",
    "    \"\"\"\n",
    "    approx = getApproxSolution(points, model)\n",
    "    f(x) = defineFunction(approx, x)\n",
    "    \n",
    "    f_2(x) = getDiffOfFunction(f)\n",
    "\n",
    "    intervals = getGradientExact(f_2, Max_Gradient, points)\n",
    "\n",
    "    gp = paintStairIntervals(intervals, approx)\n",
    "    \n",
    "    intervals = getAllStairs(intervals, f)\n",
    "\n",
    "    t = printInformationAsTable(intervals, Stair_Height)\n",
    "    \n",
    "    length = getAsphaltLength(f_2, intervals)\n",
    "\n",
    "    costsAsphalt = costCalculationAsphalt(length, Width)\n",
    "    costsStairs = costCalculationStairs(intervals, Width)\n",
    "\n",
    "    combinedCosts = costsAsphalt + costsStairs\n",
    "    \n",
    "    gp.show()\n",
    "    print('Länge des Asphalts: ' + str(round(length,2)))\n",
    "    print('Kosten für Asphalt: ' + str(costsAsphalt))\n",
    "    print('Kosten für Stufen: ' + str(costsStairs))\n",
    "    print('Gesamtkosten: ' + str(combinedCosts))\n",
    "    \n",
    "    return t"
   ]
  },
  {
   "cell_type": "markdown",
   "id": "b1d1f5cc",
   "metadata": {},
   "source": [
    "## Fazit\n",
    "---"
   ]
  },
  {
   "cell_type": "markdown",
   "id": "8d8ed0d4",
   "metadata": {},
   "source": [
    "Das Projekt hat sein erhofftes Ergebnis erreicht.\n",
    "\n",
    "Die Hügeldaten konnten mittels SageMath implementiert, visualisiert und beurteilt werden.\n",
    "\n",
    "Ebenso konnten die Stufenzahl, die Länge der asphaltierten Stücke und die Kosten des gesamten Weges berechnet werden.\n",
    "\n",
    "Da unser Algorithmus mit einer konstanten Stufengröße arbeitet, kann es jedoch zu einem Problemfall kommen. Sollte sich die Steigung stark verändert kann es dazu führen, dass die Funktion dies nicht in Betracht zieht und die Stufen in den Hügel \"hineingehen\" würden. Eine Möglichkeit dies zu vermeiden, wäre in den Intervallen die Steigung anzuschauen und sie mit der vorherigen zu vergleichen. Bei einem Fall wo die vorherige Steigung kleiner ist als die jetzige würde man sie ab dort \"schneiden\" und die Stufenfunktion nur bis dahin verwenden. Der Vorgang würde sich immer wiederholen bis wir das gewünschte Ende des Berges erreicht haben.\n",
    "\n",
    "Der Einfachheit wegen und da unser Zieldatensatz nicht diesem Sonderfall entspricht, wurde hier jedoch an der Logik der gleichen Stufengröße festgehalten. Die obige Beschreibung dient jedoch als potentieller Ausblick für zukünftige Erweiterungen."
   ]
  },
  {
   "cell_type": "markdown",
   "id": "0761bb24",
   "metadata": {},
   "source": [
    "## Arbeitsaufteilung\n",
    "---"
   ]
  },
  {
   "cell_type": "markdown",
   "id": "b00e76ac",
   "metadata": {},
   "source": [
    "- Chris Fröschl: Dokumentation, mathematische Modellierung\n",
    "- Simon Gärtner: Aufgabe 1, 2, 3, 4, Analyse Tool, Dokumentaiton, mathematische Modellierung\n",
    "- Emils Bundzis: Dokumentation, mathematische Modellierung"
   ]
  },
  {
   "cell_type": "markdown",
   "id": "91197ae1",
   "metadata": {},
   "source": [
    "## Literatur\n",
    "---"
   ]
  },
  {
   "cell_type": "markdown",
   "id": "55455e34",
   "metadata": {},
   "source": [
    "### Bildquellen\n",
    "\n",
    "- Bild 1: https://upload.wikimedia.org/wikipedia/commons/1/17/MDKQ1.svg"
   ]
  }
 ],
 "metadata": {
  "kernelspec": {
   "display_name": "SageMath 9.5",
   "language": "sage",
   "name": "sagemath"
  },
  "language_info": {
   "codemirror_mode": {
    "name": "ipython",
    "version": 3
   },
   "file_extension": ".py",
   "mimetype": "text/x-python",
   "name": "python",
   "nbconvert_exporter": "python",
   "pygments_lexer": "ipython3",
   "version": "3.10.6"
  }
 },
 "nbformat": 4,
 "nbformat_minor": 5
}
