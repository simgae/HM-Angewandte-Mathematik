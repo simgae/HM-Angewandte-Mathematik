{
 "cells": [
  {
   "cell_type": "code",
   "execution_count": 1,
   "id": "04bf9df9",
   "metadata": {},
   "outputs": [
    {
     "data": {
      "text/html": [
       "<style>.container { width:70% !important; }</style>"
      ],
      "text/plain": [
       "<IPython.core.display.HTML object>"
      ]
     },
     "metadata": {},
     "output_type": "display_data"
    }
   ],
   "source": [
    "# print out each line in the input cell not only the last one\n",
    "from IPython.core.interactiveshell import InteractiveShell\n",
    "InteractiveShell.ast_node_interactivity = \"all\"\n",
    "\n",
    "# expand the cell width to 100% of t \n",
    "from IPython.core.display import display, HTML\n",
    "display(HTML(\"<style>.container { width:70% !important; }</style>\"))"
   ]
  },
  {
   "cell_type": "markdown",
   "id": "2d20abd3",
   "metadata": {},
   "source": [
    "*Gruppe: Tobias Blümlhuber, Silvan Kron, Simon Gärtner*\n",
    "\n",
    "# Aufgabe 1: Leiteraufgabe\n",
    "## Renovierung eines Gutshofes \n",
    "\n",
    "Ein alter Gutshof wird renoviert. Dabei soll der Buntsandstein in der Scheune frei gelegt werden, indem der Putz von den 7,80m hohen Wänden abgeschlagen wird. Auf dem Boden der Scheune liegen allerdings noch andere Materialien im Weg, die nicht verschoben werden können. So steht eine würfelförmige Kiste direkt an der Wand mit der Seitenlänge von 1,60m. Reicht eine 6,50m lange Leiter, die an der Wand anlehnt und die Kiste in einem Punkt berührt aus, um den Putz an der kompletten Wand abzuschlagen?"
   ]
  },
  {
   "cell_type": "markdown",
   "id": "43d64c9f",
   "metadata": {},
   "source": [
    "### Skizze für besseres Verständis des Problems"
   ]
  },
  {
   "cell_type": "code",
   "execution_count": 2,
   "id": "e9287660",
   "metadata": {},
   "outputs": [
    {
     "data": {
      "image/png": "[encoded data removed]",
      "text/plain": [
       "Graphics object consisting of 4 graphics primitives"
      ]
     },
     "metadata": {},
     "output_type": "display_data"
    }
   ],
   "source": [
    "wall = line([(0,0),(0,7.5)], color = 'red', thickness = 3)\n",
    "floor = line([(0,0),(10,0)], color = 'red', thickness = 3)\n",
    "\n",
    "chest = line([(0,0), (0,1.6), (1.6, 1.6), (1.6,0)], color = 'blue', thickness = 3)\n",
    "\n",
    "ladder = line([(2.165,0), (0,6.1287)], color = 'green', thickness = 3)\n",
    "\n",
    "show(wall + floor + chest + ladder)"
   ]
  },
  {
   "cell_type": "markdown",
   "id": "7f74fb54",
   "metadata": {},
   "source": [
    "**Gegebene Maße**\n",
    "\n",
    "Kiste: würfelförmig 1.60m x 1.60m (blauer Würfel)\n",
    "\n",
    "Leiter: 6.50m lang, liegt an der Wand an und an einer Ecke des Würfels (grüne Linie)\n",
    "\n",
    "Wand: 7.80m hoch (rote y-Achse)"
   ]
  },
  {
   "cell_type": "code",
   "execution_count": 3,
   "id": "0832dc2f",
   "metadata": {},
   "outputs": [],
   "source": [
    "# define all parameters\n",
    "\n",
    "wall = 7.80\n",
    "ladder = 6.50\n",
    "chest = 1.60\n",
    "security_distance = 0.30\n",
    "person_height = 2.10"
   ]
  },
  {
   "cell_type": "markdown",
   "id": "37e0fa48",
   "metadata": {},
   "source": [
    "### Ziel der Berechnung\n",
    "\n",
    "*Ist die volle Höhe der Wand durch die Leiter und einen darauf stehenden Menschen erreichbar?*\n",
    "\n",
    "$\\quad \\rightarrow$ Um diese Frage zu beantworten, berechnen wir den höchsten Punkt, an dem die Leiter anliegen könnte."
   ]
  },
  {
   "cell_type": "markdown",
   "id": "800a4a16",
   "metadata": {},
   "source": [
    "### Vorgehen\n",
    "\n",
    "1. Mittels Strahlensatz die Maße des großen Dreiecks berechnen. Hierfür setzen wir das Verhältnis des mittleren oberen Dreiecks (auf der Kiste) mit dem großen Dreieck in Verhältnis. Ziel ist es dabei, den Anlagepunkt der Leiter zu berechnen\n",
    "\n",
    "Stahlensatz:"
   ]
  },
  {
   "cell_type": "code",
   "execution_count": 4,
   "id": "81709bda",
   "metadata": {},
   "outputs": [],
   "source": [
    "# define variables\n",
    "\n",
    "x, y = var('x', 'y')"
   ]
  },
  {
   "cell_type": "code",
   "execution_count": 5,
   "id": "b20fe5ab",
   "metadata": {},
   "outputs": [
    {
     "data": {
      "text/plain": [
       "0.625000000000000*x == y/(y - 1.60000000000000)"
      ]
     },
     "execution_count": 5,
     "metadata": {},
     "output_type": "execute_result"
    },
    {
     "data": {
      "text/plain": [
       "x == 1.60000000000000*y/(y - 1.60000000000000)"
      ]
     },
     "execution_count": 5,
     "metadata": {},
     "output_type": "execute_result"
    }
   ],
   "source": [
    "# create intercept theorem\n",
    "\n",
    "x / chest == y / (y - chest)\n",
    "\n",
    "x == y / (y - chest) * chest"
   ]
  },
  {
   "cell_type": "markdown",
   "id": "fdf27c4a",
   "metadata": {},
   "source": [
    "Nun erhält man eine Gleichung mit zwei Unbekannten: \n",
    "\n",
    "1. x $\\rightarrow$ Abstand von der Wand zum Standpunkt der Leiter (Schnittpunkt mit x-Achse)\n",
    "2. y $\\rightarrow$ Anlagepunkt der Leiter an der Wand (Schnittpunkt mit y-Achse)\n",
    "\n",
    "Um die Gleichung zu lösen, benötigen wir noch eine zweite Gleichung: Pythagoras des großen Dreiecks"
   ]
  },
  {
   "cell_type": "code",
   "execution_count": 6,
   "id": "11ce109f",
   "metadata": {},
   "outputs": [
    {
     "data": {
      "text/plain": [
       "42.2500000000000 == -x^2 + y^2"
      ]
     },
     "execution_count": 6,
     "metadata": {},
     "output_type": "execute_result"
    },
    {
     "data": {
      "text/plain": [
       "y == sqrt(-x^2 + 42.2500000000000)"
      ]
     },
     "execution_count": 6,
     "metadata": {},
     "output_type": "execute_result"
    }
   ],
   "source": [
    "# create pythagoras\n",
    "\n",
    "ladder^2 == y^2 - x^2\n",
    "\n",
    "y == sqrt(ladder^2 - x^2)"
   ]
  },
  {
   "cell_type": "markdown",
   "id": "408682dd",
   "metadata": {},
   "source": [
    "Nun können wir die Gleichungen ineinander einsetzen und erhalten ein Ergebnis."
   ]
  },
  {
   "cell_type": "code",
   "execution_count": 7,
   "id": "2708657b",
   "metadata": {},
   "outputs": [
    {
     "name": "stdout",
     "output_type": "stream",
     "text": [
      "Anlagepunkt der Leiter: 6.12874976467387\n"
     ]
    }
   ],
   "source": [
    "# combine both formulars and solve it\n",
    "\n",
    "sol = find_root(sqrt(ladder^2 - (y / (y - chest) * chest)^2) == y, 4, 7)\n",
    "y = sol\n",
    "print('Anlagepunkt der Leiter: ' + str(y))"
   ]
  },
  {
   "cell_type": "markdown",
   "id": "4935463e",
   "metadata": {},
   "source": [
    "Dies bedeutet, dass unser Anlagepunkt bei einer 6.50m langen Leiter bei $\\approx 6.1287m$ liegt."
   ]
  },
  {
   "cell_type": "markdown",
   "id": "18802021",
   "metadata": {},
   "source": [
    "### Kontrollrechnung\n",
    "\n",
    "Um das Ergebnis zu überprüfen, berechnen wir noch den Standpunkt der Leiter, um dann die Leiterlänge auszurechnen. Wenn diese bei 6.50m liegt, dann ist das Ergebnis richtig. Um den Standpunkt auszurechnen, verwenden wir die Formel aus dem Strahlensatz von oben."
   ]
  },
  {
   "cell_type": "code",
   "execution_count": 8,
   "id": "a5f3fc93",
   "metadata": {},
   "outputs": [
    {
     "name": "stdout",
     "output_type": "stream",
     "text": [
      "Standpunkt der Leiter am Boden: 2.16527742379786\n"
     ]
    }
   ],
   "source": [
    "# use intercept theorem\n",
    "\n",
    "x = y / (y - chest) * chest\n",
    "print('Standpunkt der Leiter am Boden: '+ str(x))"
   ]
  },
  {
   "cell_type": "markdown",
   "id": "a9a1f8f9",
   "metadata": {},
   "source": [
    "Der Standpunkt der Leiter liegt bei $\\approx 2.165m$. Mit dieser Angabe könnnen wir nun über den Pythagoras die Länge der Leiter ausrechnen. Um genau zu prüfen, berechnen wir auch die Abweichung von der gegebenen Leiterlänge."
   ]
  },
  {
   "cell_type": "code",
   "execution_count": 9,
   "id": "187ba3ea",
   "metadata": {},
   "outputs": [
    {
     "name": "stdout",
     "output_type": "stream",
     "text": [
      "Abweichung: 9.94759830064140e-14\n"
     ]
    }
   ],
   "source": [
    "# calculate ladder length and check the difference to the orgin value\n",
    "\n",
    "r, a = var('r', 'a')\n",
    "\n",
    "r = sqrt(x^2 + y^2)\n",
    "a = ladder - r\n",
    "\n",
    "print('Abweichung: ' + str(a))"
   ]
  },
  {
   "cell_type": "markdown",
   "id": "c37a292b",
   "metadata": {},
   "source": [
    "Die Abweichung von 9.94759830064140e-14 lässt sich durch das Runden der Maße erklären."
   ]
  },
  {
   "cell_type": "markdown",
   "id": "86099588",
   "metadata": {},
   "source": [
    "### Fazit\n",
    "\n",
    "Um nun die Erreichbarkeit der Decke zu prüfen, müssen eine Reihe von Annahmen getroffen werden:\n",
    "\n",
    "1. Größe der Person: Wir haben festgelegt, dass die Person durch ihre Körpergröße und das Ausstrecken der Arme nach oben eine Höhe von 2.10m abdecken kann\n",
    "2. Sicherheit: Ebenso haben wir festgelegt, dass die Person nicht am Ende der Leiter steht, sondern 0.30m unter dem Ende.\n",
    "\n",
    "Mittels dieser Annahmen können wir nun berechnen, ob die Person die Decke erreicht."
   ]
  },
  {
   "cell_type": "code",
   "execution_count": 10,
   "id": "0ce2f540",
   "metadata": {},
   "outputs": [
    {
     "name": "stdout",
     "output_type": "stream",
     "text": [
      "Maximale Höhe: 7.92874976467387\n",
      "Wird die komplette Wandhöhe vollständig abgedeckt? True\n"
     ]
    }
   ],
   "source": [
    "# check if the person reaches the top of the wall\n",
    "\n",
    "h = var('h')\n",
    "\n",
    "h = y - security_distance + person_height\n",
    "\n",
    "print('Maximale Höhe: ' + str(h))\n",
    "print('Wird die komplette Wandhöhe vollständig abgedeckt? ' + str(h > wall))"
   ]
  },
  {
   "cell_type": "markdown",
   "id": "b353b5c1",
   "metadata": {},
   "source": [
    "Da die maximal erreichbare Höhe bei $\\approx 8m$ liegt, erreicht die Person die Decke!"
   ]
  }
 ],
 "metadata": {
  "kernelspec": {
   "display_name": "SageMath 9.5",
   "language": "sage",
   "name": "sagemath"
  },
  "language_info": {
   "codemirror_mode": {
    "name": "ipython",
    "version": 3
   },
   "file_extension": ".py",
   "mimetype": "text/x-python",
   "name": "python",
   "nbconvert_exporter": "python",
   "pygments_lexer": "ipython3",
   "version": "3.10.6"
  }
 },
 "nbformat": 4,
 "nbformat_minor": 5
}
