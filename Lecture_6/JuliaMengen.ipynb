{
 "cells": [
  {
   "cell_type": "code",
   "execution_count": 1,
   "id": "0e37bec2",
   "metadata": {},
   "outputs": [
    {
     "data": {
      "text/html": [
       "<style>.container { width:70% !important; }</style>"
      ],
      "text/plain": [
       "<IPython.core.display.HTML object>"
      ]
     },
     "metadata": {},
     "output_type": "display_data"
    }
   ],
   "source": [
    "import numpy as np\n",
    "import time\n",
    "\n",
    "# print out each line in the input cell not only the last one\n",
    "from IPython.core.interactiveshell import InteractiveShell\n",
    "InteractiveShell.ast_node_interactivity = \"all\"\n",
    "\n",
    "# expand the cell width to 100% of t \n",
    "from IPython.core.display import display, HTML\n",
    "display(HTML(\"<style>.container { width:70% !important; }</style>\"))"
   ]
  },
  {
   "cell_type": "markdown",
   "id": "3b4394ac",
   "metadata": {},
   "source": [
    "# Abschlussprojekt: Chaos Probleme - Julia Mengen\n",
    "---\n",
    "**Erstellt von: Simon Gärtner**\n",
    "\n",
    "*Wir haben uns dazu entschlossen, die Dokumentation in das SageMath Skript einzubinden. Daher finden Sie hier eine ausführliche Erklärung des Problems, des Skriptes, der Ergebnisse und der Arbeitsaufteilung.*\n"
   ]
  },
  {
   "cell_type": "markdown",
   "id": "3a412ba7",
   "metadata": {},
   "source": [
    "## Einführung\n",
    "---"
   ]
  },
  {
   "cell_type": "markdown",
   "id": "3cb01fdb",
   "metadata": {},
   "source": [
    "### Was sind Julia Mengen?\n",
    "\n",
    "Die Julia-Megen wurden nach dem französischen Mathematiker Gaston Julia benannt, der im Jahr 1919 die Folge der Gleichung $z_{n+1}=z_n^2 + i$ für komplexe Zahlen untersuchte. Insbesondere betrachtete er, welche Zahlen der komplexen Ebenen nach mehrfachem anwenden dieser Gleichung gegen $\\pm \\infty$ konvergieren.\n",
    "\n",
    "Hierfür verallgemeinerte er die Formel zu $z_{n+1}=z_n^2 + c$. Die verschiedenen Variablen haben folgende Bedeutung:\n",
    "- $z_{n+1}$ Wert der auf $z_n$ folgt\n",
    "- $c$ komplexe Zahl, die frei gewählt werden darf\n",
    "- Startwert $z_0$: Koordinate aus der komplexen Ebenen\n",
    "\n",
    "Interessant ist hier zu beobachten, dass für jedes c eine andere Julia Menge entsteht, auch wenn die Änderung an c noch so klein ist.\n",
    "\n",
    "### Parameter für Julia Mengen\n",
    "\n",
    "Zu Beginn der Erstellung müssen folgende Parameter festgelegt werden:\n",
    "1. Konstante c: wird bei jeder Funktion auf die Potenz von $z_n$ auf addiert\n",
    "2. Formel: Julia Mengen verwenden folgende Iterationsvorschrift: $z_{n+1}=z_n^2+c$\n",
    "3. x-start und x-end: Größe des Bildes auf der x-Achse\n",
    "4. y-start und y-end: Größe des Bildes auf der y-Achse\n",
    "5. scaling: Auflösung des Bildes, z.B. bei 10 wird ein 1x1 Feld in insgesamt 100 Pixel aufgebrochen.\n",
    "6. Grenze: Ab welchen Wert gilt das Ergebnis als \"unendlich\"\n",
    "7. Grenze für Iterationen: Ab wie vielen Recheniterationen wird die Folge abgebrochen.\n",
    "\n",
    "### Erstellung von Julia Mengen Grafiken"
   ]
  },
  {
   "cell_type": "markdown",
   "id": "db9b79a7",
   "metadata": {},
   "source": [
    "## Implementierung in SageMath & Analyse der Ergebnisse\n",
    "---"
   ]
  },
  {
   "cell_type": "code",
   "execution_count": 2,
   "id": "36c6b6b5",
   "metadata": {},
   "outputs": [],
   "source": [
    "# Define variables\n",
    "x, c = var('x', 'c')"
   ]
  },
  {
   "cell_type": "code",
   "execution_count": 3,
   "id": "0abc83ed",
   "metadata": {},
   "outputs": [],
   "source": [
    "def initialize_julia_sets(constant_c, formula, x_start, x_end, y_start, y_end, scaling):\n",
    "    \"\"\"\n",
    "    Initializes the parameters for generating Julia sets.\n",
    "\n",
    "    Args:\n",
    "        constant_c (complex): The constant value used in the Julia set formula.\n",
    "        formula (str): The formula used for generating the Julia set.\n",
    "        x_start (float): The starting value for the x-axis range.\n",
    "        x_end (float): The ending value for the x-axis range.\n",
    "        y_start (float): The starting value for the y-axis range.\n",
    "        y_end (float): The ending value for the y-axis range.\n",
    "        scaling (int): The scaling factor used for incrementing the values.\n",
    "\n",
    "    Returns:\n",
    "        dict: A dictionary containing the initialized parameters for generating Julia sets.\n",
    "            - 'constant_c': The constant value used in the Julia set formula.\n",
    "            - 'formula': The formula used for generating the Julia set.\n",
    "            - 'x_start': The starting value for the x-axis range.\n",
    "            - 'x_end': The ending value for the x-axis range.\n",
    "            - 'y_start': The starting value for the y-axis range.\n",
    "            - 'y_end': The ending value for the y-axis range.\n",
    "            - 'scaling': The scaling factor used for incrementing the values.\n",
    "    \"\"\"\n",
    "    return {\n",
    "        'constant_c': constant_c,\n",
    "        'formula': formula,\n",
    "        'x_start': x_start,\n",
    "        'x_end': x_end,\n",
    "        'y_start': y_start,\n",
    "        'y_end': y_end,\n",
    "        'scaling': scaling\n",
    "    }"
   ]
  },
  {
   "cell_type": "code",
   "execution_count": 4,
   "id": "a4689965",
   "metadata": {},
   "outputs": [],
   "source": [
    "def get_function_value(func, x, c):\n",
    "    \"\"\"\n",
    "    Calculates the function value by calling the provided function with the given arguments.\n",
    "\n",
    "    Args:\n",
    "        func (callable): The function to be called.\n",
    "        x: The first argument to be passed to the function.\n",
    "        c: The second argument to be passed to the function.\n",
    "\n",
    "    Returns:\n",
    "        The value obtained by calling the function with the provided arguments.\n",
    "    \"\"\"\n",
    "    return func(x, c)"
   ]
  },
  {
   "cell_type": "code",
   "execution_count": 5,
   "id": "39ca5f2f",
   "metadata": {},
   "outputs": [],
   "source": [
    "def initialize_matrix(setup):\n",
    "    \"\"\"\n",
    "    Initializes a matrix using the provided setup parameters.\n",
    "\n",
    "    Args:\n",
    "        setup (dict): A dictionary containing the setup parameters for matrix initialization.\n",
    "\n",
    "    Returns:\n",
    "        Matrix: The initialized matrix.\n",
    "\n",
    "    \"\"\"\n",
    "    matrix_list = []\n",
    "\n",
    "    for col in np.arange(setup['x_start'], setup['x_end'] + 1, 1 / setup['scaling']):\n",
    "        col_list = []\n",
    "\n",
    "        for row in np.arange(setup['y_start'], setup['y_end'] + 1, 1 / setup['scaling']):\n",
    "            col_list.append(col + row * 1j)\n",
    "        matrix_list.append(col_list)\n",
    "\n",
    "    return Matrix(CDF, matrix_list)"
   ]
  },
  {
   "cell_type": "code",
   "execution_count": 6,
   "id": "b85b8513",
   "metadata": {},
   "outputs": [],
   "source": [
    "def print_matrix(matrix):\n",
    "    \"\"\"\n",
    "    Prints a visual representation of the matrix.\n",
    "\n",
    "    Args:\n",
    "        matrix: The matrix to be plotted.\n",
    "\n",
    "    Returns:\n",
    "        The visual representation of the matrix.\n",
    "\n",
    "    \"\"\"\n",
    "    return matrix_plot(matrix, cmap='seismic', colorbar=True, axes=False, frame=True)"
   ]
  },
  {
   "cell_type": "code",
   "execution_count": 7,
   "id": "654f57dc",
   "metadata": {},
   "outputs": [],
   "source": [
    "def validate_point(func, complex_number, setup):\n",
    "    \"\"\"\n",
    "    Validates a complex number using a function and a setup dictionary.\n",
    "\n",
    "    Args:\n",
    "        func (callable): The function used to calculate the next value of the complex number.\n",
    "        complex_number (complex): The initial complex number to be validated.\n",
    "        setup (dict): A dictionary containing the setup parameters.\n",
    "\n",
    "    Returns:\n",
    "        int: The number of iterations until the complex number exceeded the validation bounds or the maximum number of iterations reached.\n",
    "\n",
    "    \"\"\"\n",
    "    run = 200\n",
    "\n",
    "    while complex_number > -100 and run > 0 and complex_number < 100:\n",
    "        complex_number = get_function_value(func, complex_number, setup['constant_c'])\n",
    "        run -= 1\n",
    "\n",
    "    return run"
   ]
  },
  {
   "cell_type": "code",
   "execution_count": 8,
   "id": "40814f0e",
   "metadata": {},
   "outputs": [],
   "source": [
    "def change_matrix(func, matrix, setup):\n",
    "    \"\"\"\n",
    "    Changes the values in the matrix based on the given function and setup parameters.\n",
    "\n",
    "    Args:\n",
    "        func (callable): The function used to validate each complex number in the matrix.\n",
    "        matrix: The matrix to be modified.\n",
    "        setup (dict): A dictionary containing the setup parameters.\n",
    "\n",
    "    Returns:\n",
    "        Matrix: The modified matrix.\n",
    "\n",
    "    \"\"\"\n",
    "    new_list = []\n",
    "\n",
    "    for row in range((setup['y_end'] - setup['y_start']) * setup['scaling'] + 1):\n",
    "        rows = []\n",
    "\n",
    "        for col in range((setup['x_end'] - setup['x_start']) * setup['scaling'] + 1):\n",
    "            rows.append(validate_point(func, matrix[col][row], setup))\n",
    "\n",
    "        new_list.append(rows)\n",
    "\n",
    "    return Matrix(CDF, new_list)"
   ]
  },
  {
   "cell_type": "code",
   "execution_count": 9,
   "id": "797f7e41",
   "metadata": {},
   "outputs": [
    {
     "name": "stdout",
     "output_type": "stream",
     "text": [
      "Initialize setup...\n",
      "Initialize done: 0.0 seconds!\n",
      "Initialize Matrix...\n",
      "Initialize done: 0.06 seconds!\n",
      "Calculating....\n",
      "Calculation done: 25.25 seconds!\n"
     ]
    },
    {
     "data": {
      "image/png": "[encoded data removed]",
      "text/plain": [
       "Graphics object consisting of 1 graphics primitive"
      ]
     },
     "execution_count": 9,
     "metadata": {},
     "output_type": "execute_result"
    },
    {
     "name": "stdout",
     "output_type": "stream",
     "text": [
      "Overall time: 26.32 seconds!\n"
     ]
    }
   ],
   "source": [
    "t2 = time.time()\n",
    "\n",
    "print('Initialize setup...')\n",
    "\n",
    "t0 = time.time()\n",
    "\n",
    "# Initialize setup parameters\n",
    "setup = initialize_julia_sets(-0.7423 + 0.105j, 'x^2+c', -2, 2, -2, 2, 10)\n",
    "func(x, c) = setup['formula']\n",
    "\n",
    "t1 = time.time()\n",
    "\n",
    "print('Initialize done: ' + str(round(t1 - t0, 2)) + ' seconds!')\n",
    "\n",
    "print('Initialize Matrix...')\n",
    "\n",
    "t0 = time.time()\n",
    "\n",
    "# Initialize matrix\n",
    "matrix = initialize_matrix(setup)\n",
    "\n",
    "t1 = time.time()\n",
    "\n",
    "print('Initialize done: ' + str(round(t1 - t0, 2)) + ' seconds!')\n",
    "\n",
    "print('Calculating....')\n",
    "\n",
    "t0 = time.time()\n",
    "\n",
    "# Change matrix values\n",
    "matrix = change_matrix(func, matrix, setup)\n",
    "\n",
    "t1 = time.time()\n",
    "\n",
    "print('Calculation done: ' + str(round(t1 - t0, 2)) + ' seconds!')\n",
    "print_matrix(matrix)\n",
    "\n",
    "t3 = time.time()\n",
    "\n",
    "print('Overall time: ' + str(round(t3 - t2, 2)) + ' seconds!')"
   ]
  },
  {
   "cell_type": "markdown",
   "id": "12152a0f",
   "metadata": {},
   "source": [
    "## Auswertung des Algorithmusses\n",
    "---"
   ]
  },
  {
   "cell_type": "markdown",
   "id": "584805bc",
   "metadata": {},
   "source": [
    "*Inhalt folgt*"
   ]
  },
  {
   "cell_type": "markdown",
   "id": "97dd3acc",
   "metadata": {},
   "source": [
    "## Fazit\n",
    "---"
   ]
  },
  {
   "cell_type": "markdown",
   "id": "f599f2e9",
   "metadata": {},
   "source": [
    "*Inhalt folgt!*"
   ]
  },
  {
   "cell_type": "markdown",
   "id": "122da4c4",
   "metadata": {},
   "source": [
    "## Übungsaufgaben\n",
    "---"
   ]
  },
  {
   "cell_type": "markdown",
   "id": "aa569c7c",
   "metadata": {},
   "source": [
    "*Inhalt folgt!*"
   ]
  },
  {
   "cell_type": "markdown",
   "id": "67556d37",
   "metadata": {},
   "source": [
    "## Lösungen\n",
    "---"
   ]
  },
  {
   "cell_type": "markdown",
   "id": "aaf5c2f1",
   "metadata": {},
   "source": [
    "*Inhalt folgt!*"
   ]
  },
  {
   "cell_type": "markdown",
   "id": "2fa0bb93",
   "metadata": {},
   "source": [
    "## Literatur\n",
    "---"
   ]
  },
  {
   "cell_type": "markdown",
   "id": "ecffea9d",
   "metadata": {},
   "source": [
    "### Bildquellen\n",
    "Alle hier in der Dokumentation dargestellten Bilder wurden durch dieses Programm erstellt."
   ]
  }
 ],
 "metadata": {
  "kernelspec": {
   "display_name": "SageMath 9.5",
   "language": "sage",
   "name": "sagemath"
  },
  "language_info": {
   "codemirror_mode": {
    "name": "ipython",
    "version": 3
   },
   "file_extension": ".py",
   "mimetype": "text/x-python",
   "name": "python",
   "nbconvert_exporter": "python",
   "pygments_lexer": "ipython3",
   "version": "3.10.6"
  }
 },
 "nbformat": 4,
 "nbformat_minor": 5
}
