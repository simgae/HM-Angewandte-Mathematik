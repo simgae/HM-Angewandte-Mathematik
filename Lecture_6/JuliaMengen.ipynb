{
 "cells": [
  {
   "cell_type": "code",
   "execution_count": 1,
   "id": "0e37bec2",
   "metadata": {},
   "outputs": [
    {
     "data": {
      "text/html": [
       "<style>.container { width:70% !important; }</style>"
      ],
      "text/plain": [
       "<IPython.core.display.HTML object>"
      ]
     },
     "metadata": {},
     "output_type": "display_data"
    }
   ],
   "source": [
    "import numpy as np\n",
    "import matplotlib.pyplot as plt\n",
    "\n",
    "# print out each line in the input cell not only the last one\n",
    "from IPython.core.interactiveshell import InteractiveShell\n",
    "InteractiveShell.ast_node_interactivity = \"all\"\n",
    "\n",
    "# expand the cell width to 100% of t \n",
    "from IPython.core.display import display, HTML\n",
    "display(HTML(\"<style>.container { width:70% !important; }</style>\"))"
   ]
  },
  {
   "cell_type": "markdown",
   "id": "3b4394ac",
   "metadata": {},
   "source": [
    "# Julia Mengen\n",
    "---\n",
    "*Erstellt von: Simon Gärtner*"
   ]
  },
  {
   "cell_type": "markdown",
   "id": "3a412ba7",
   "metadata": {},
   "source": [
    "## Einführung\n",
    "---"
   ]
  },
  {
   "cell_type": "markdown",
   "id": "3cb01fdb",
   "metadata": {},
   "source": [
    "*Inhalt folgt!*"
   ]
  },
  {
   "cell_type": "markdown",
   "id": "db9b79a7",
   "metadata": {},
   "source": [
    "# Implementierung in SageMath\n",
    "---"
   ]
  },
  {
   "cell_type": "code",
   "execution_count": 2,
   "id": "36c6b6b5",
   "metadata": {},
   "outputs": [],
   "source": [
    "# define variables\n",
    "x, c = var('x', 'c')"
   ]
  },
  {
   "cell_type": "code",
   "execution_count": 3,
   "id": "0abc83ed",
   "metadata": {},
   "outputs": [],
   "source": [
    "def initialize_julia_sets(constant_c, start_value, formular, x_start, x_end, y_start, y_end):\n",
    "    return {'constant_c': constant_c, 'start_value': start_value, 'formular': formular, 'x_start': x_start, 'x_end': x_end, 'y_start': y_start, 'y_end': y_end}"
   ]
  },
  {
   "cell_type": "code",
   "execution_count": 4,
   "id": "a4689965",
   "metadata": {},
   "outputs": [],
   "source": [
    "def get_function_value(func, x, c):\n",
    "    return func(x, c)"
   ]
  },
  {
   "cell_type": "code",
   "execution_count": 5,
   "id": "39ca5f2f",
   "metadata": {},
   "outputs": [],
   "source": [
    "def initialize_matrix(x_start, x_end, y_start, y_end):\n",
    "    list = []\n",
    "    \n",
    "    for col in np.arange(x_start, x_end + 1, 0.1):\n",
    "        col_list = []\n",
    "        \n",
    "        for row in np.arange(y_start, y_end + 1, 0.1):\n",
    "            col_list.append(col + row * i)\n",
    "        list.append(col_list)\n",
    "\n",
    "    return Matrix(CDF, list)"
   ]
  },
  {
   "cell_type": "code",
   "execution_count": 6,
   "id": "b85b8513",
   "metadata": {},
   "outputs": [],
   "source": [
    "def print_matrix(matrix):\n",
    "    return matrix_plot(matrix, cmap = 'ocean', colorbar = True, axes = False, frame = True)"
   ]
  },
  {
   "cell_type": "code",
   "execution_count": 7,
   "id": "654f57dc",
   "metadata": {},
   "outputs": [],
   "source": [
    "def validate_point(complex_number, func, setup):\n",
    "    run = 50\n",
    "    while(run > 0 and complex_number < 2):\n",
    "        complex_number = get_function_value(func, complex_number, setup['constant_c'])\n",
    "        run -= 1\n",
    "        \n",
    "    return run"
   ]
  },
  {
   "cell_type": "code",
   "execution_count": 8,
   "id": "40814f0e",
   "metadata": {},
   "outputs": [],
   "source": [
    "def change_matrix(matrix, x_start, x_end, y_start, y_end, func, setup):\n",
    "    \n",
    "    list = []\n",
    "    for row in range((y_end - y_start) * 10 + 1):\n",
    "        rows = []\n",
    "        for col in range ((x_end - x_start) * 10 + 1):\n",
    "            rows.append(validate_point(matrix[col][row], func, setup))\n",
    "        list.append(rows)\n",
    "            \n",
    "    return Matrix(CDF, list)"
   ]
  },
  {
   "cell_type": "code",
   "execution_count": 9,
   "id": "797f7e41",
   "metadata": {},
   "outputs": [
    {
     "data": {
      "image/png": "[encoded data removed]",
      "text/plain": [
       "Graphics object consisting of 1 graphics primitive"
      ]
     },
     "execution_count": 9,
     "metadata": {},
     "output_type": "execute_result"
    }
   ],
   "source": [
    "# testing\n",
    "setup = initialize_julia_sets(0.31*i + 0.04, 1, x^2+c, -2, 2, -1, 1)\n",
    "func(x,c) = setup['formular']\n",
    "\n",
    "matrix = initialize_matrix(setup['x_start'], setup['x_end'], setup['y_start'], setup['y_end'])\n",
    "matrix = change_matrix(matrix, setup['x_start'], setup['x_end'], setup['y_start'], setup['y_end'], func, setup)\n",
    "\n",
    "print_matrix(matrix)"
   ]
  },
  {
   "cell_type": "markdown",
   "id": "97dd3acc",
   "metadata": {},
   "source": [
    "## Fazit\n",
    "---"
   ]
  },
  {
   "cell_type": "code",
   "execution_count": null,
   "id": "ff8ced02",
   "metadata": {},
   "outputs": [],
   "source": []
  },
  {
   "cell_type": "markdown",
   "id": "f599f2e9",
   "metadata": {},
   "source": [
    "*Inhalt folgt!*"
   ]
  },
  {
   "cell_type": "markdown",
   "id": "122da4c4",
   "metadata": {},
   "source": [
    "## Übungsaufgaben\n",
    "---"
   ]
  },
  {
   "cell_type": "markdown",
   "id": "aa569c7c",
   "metadata": {},
   "source": [
    "*Inhalt folgt!*"
   ]
  },
  {
   "cell_type": "markdown",
   "id": "67556d37",
   "metadata": {},
   "source": [
    "## Lösungen\n",
    "---"
   ]
  },
  {
   "cell_type": "markdown",
   "id": "aaf5c2f1",
   "metadata": {},
   "source": [
    "*Inhalt folgt!*"
   ]
  },
  {
   "cell_type": "code",
   "execution_count": null,
   "id": "53c756a7",
   "metadata": {},
   "outputs": [],
   "source": []
  }
 ],
 "metadata": {
  "kernelspec": {
   "display_name": "SageMath 9.5",
   "language": "sage",
   "name": "sagemath"
  },
  "language_info": {
   "codemirror_mode": {
    "name": "ipython",
    "version": 3
   },
   "file_extension": ".py",
   "mimetype": "text/x-python",
   "name": "python",
   "nbconvert_exporter": "python",
   "pygments_lexer": "ipython3",
   "version": "3.10.6"
  }
 },
 "nbformat": 4,
 "nbformat_minor": 5
}
