{
 "cells": [
  {
   "cell_type": "code",
   "execution_count": 1,
   "id": "277bb427",
   "metadata": {},
   "outputs": [
    {
     "data": {
      "text/html": [
       "<style>.container { width:70% !important; }</style>"
      ],
      "text/plain": [
       "<IPython.core.display.HTML object>"
      ]
     },
     "metadata": {},
     "output_type": "display_data"
    }
   ],
   "source": [
    "# print out each line in the input cell not only the last one\n",
    "from IPython.core.interactiveshell import InteractiveShell\n",
    "InteractiveShell.ast_node_interactivity = \"all\"\n",
    "\n",
    "# expand the cell width to 100% of t \n",
    "from IPython.core.display import display, HTML\n",
    "display(HTML(\"<style>.container { width:70% !important; }</style>\"))"
   ]
  },
  {
   "cell_type": "markdown",
   "id": "85a229ed",
   "metadata": {},
   "source": [
    "Install commands: \n",
    "\n",
    "`sudo pip install numba`"
   ]
  },
  {
   "cell_type": "code",
   "execution_count": 2,
   "id": "4009326a",
   "metadata": {},
   "outputs": [],
   "source": [
    "import numpy as np\n",
    "import time\n",
    "import matplotlib.pyplot as plt\n",
    "from numba import njit\n",
    "from numba.typed import List "
   ]
  },
  {
   "cell_type": "code",
   "execution_count": 3,
   "id": "9338b175",
   "metadata": {},
   "outputs": [],
   "source": [
    "def initialize_julia_sets(constant_c, formula, x_start, x_end, y_start, y_end, scaling):\n",
    "    \"\"\"\n",
    "    Initializes the parameters for generating Julia sets.\n",
    "\n",
    "    Args:\n",
    "        constant_c (complex): The constant value used in the Julia set formula.\n",
    "        formula (str): The formula used for generating the Julia set.\n",
    "        x_start (float): The starting value for the x-axis range.\n",
    "        x_end (float): The ending value for the x-axis range.\n",
    "        y_start (float): The starting value for the y-axis range.\n",
    "        y_end (float): The ending value for the y-axis range.\n",
    "        scaling (int): The scaling factor used for incrementing the values.\n",
    "\n",
    "    Returns:\n",
    "        dict: A dictionary containing the initialized parameters for generating Julia sets.\n",
    "            - 'constant_c': The constant value used in the Julia set formula.\n",
    "            - 'formula': The formula used for generating the Julia set.\n",
    "            - 'x_start': The starting value for the x-axis range.\n",
    "            - 'x_end': The ending value for the x-axis range.\n",
    "            - 'y_start': The starting value for the y-axis range.\n",
    "            - 'y_end': The ending value for the y-axis range.\n",
    "            - 'scaling': The scaling factor used for incrementing the values.\n",
    "    \"\"\"\n",
    "    return {\n",
    "        'constant_c': constant_c,\n",
    "        'formula': formula,\n",
    "        'x_start': x_start,\n",
    "        'x_end': x_end,\n",
    "        'y_start': y_start,\n",
    "        'y_end': y_end,\n",
    "        'scaling': scaling\n",
    "    }"
   ]
  },
  {
   "cell_type": "code",
   "execution_count": 4,
   "id": "3c249266",
   "metadata": {},
   "outputs": [],
   "source": [
    "def initialize_matrix(setup):\n",
    "    \"\"\"\n",
    "    Initializes a matrix using the provided setup parameters.\n",
    "\n",
    "    Args:\n",
    "        setup (dict): A dictionary containing the setup parameters for matrix initialization.\n",
    "\n",
    "    Returns:\n",
    "        Matrix: The initialized matrix.\n",
    "\n",
    "    \"\"\"\n",
    "    matrix_list = []\n",
    "\n",
    "    for col in np.arange(setup['x_start'], setup['x_end'] + 1, 1 / setup['scaling']):\n",
    "        col_list = []\n",
    "\n",
    "        for row in np.arange(setup['y_start'], setup['y_end'] + 1, 1 / setup['scaling']):\n",
    "            col_list.append(col + row * 1j)\n",
    "        matrix_list.append(col_list)\n",
    "\n",
    "    return matrix_list"
   ]
  },
  {
   "cell_type": "code",
   "execution_count": 5,
   "id": "a4ef5c83",
   "metadata": {},
   "outputs": [],
   "source": [
    "@njit\n",
    "def validate_point(complex_number, constant_c):\n",
    "    \"\"\"\n",
    "    Validates a complex number using the given constant_c.\n",
    "\n",
    "    Args:\n",
    "        complex_number (complex): The initial complex number to be validated.\n",
    "        constant_c (complex): The constant complex number.\n",
    "\n",
    "    Returns:\n",
    "        int: The number of iterations until the complex number exceeds the validation bounds or the maximum number of iterations is reached.\n",
    "\n",
    "    \"\"\"\n",
    "    run = 200\n",
    "\n",
    "    while -100 < complex_number.real < 100 and run > 0:\n",
    "        complex_number = complex_number * complex_number + constant_c\n",
    "        run -= 1\n",
    "\n",
    "    return run"
   ]
  },
  {
   "cell_type": "code",
   "execution_count": 6,
   "id": "dd598e0e",
   "metadata": {},
   "outputs": [],
   "source": [
    "@njit\n",
    "def change_matrix(matrix_complex_numbers, x_start, x_end, y_start, y_end, constant, matrix_scaling):\n",
    "    \"\"\"\n",
    "    Changes the matrix of complex numbers using the given constant and scaling.\n",
    "\n",
    "    Args:\n",
    "        matrix_complex_numbers (list): The matrix of complex numbers to be modified.\n",
    "        x_start (float): The starting value of the x-axis.\n",
    "        x_end (float): The ending value of the x-axis.\n",
    "        y_start (float): The starting value of the y-axis.\n",
    "        y_end (float): The ending value of the y-axis.\n",
    "        constant (complex): The constant complex number.\n",
    "        matrix_scaling (int): The scaling factor for the matrix.\n",
    "\n",
    "    Returns:\n",
    "        list: The modified matrix.\n",
    "\n",
    "    \"\"\"\n",
    "    final_matrix = []\n",
    "\n",
    "    for row in range((y_end - y_start) * matrix_scaling + 1):\n",
    "        rows = []\n",
    "        for col in range((x_end - x_start) * matrix_scaling + 1):\n",
    "            rows.append(validate_point(matrix_complex_numbers[col][row], constant))\n",
    "        final_matrix.append(rows)\n",
    "\n",
    "    return final_matrix"
   ]
  },
  {
   "cell_type": "code",
   "execution_count": 7,
   "id": "1bbb31f5",
   "metadata": {},
   "outputs": [],
   "source": [
    "def create_picture(final_matrix):\n",
    "    \"\"\"\n",
    "    Creates and displays a picture using the final matrix.\n",
    "\n",
    "    Args:\n",
    "        final_matrix: The matrix representing the picture.\n",
    "\n",
    "    \"\"\"\n",
    "    plt.imshow(final_matrix)\n",
    "    plt.axis('off')\n",
    "    plt.axis('tight')\n",
    "    plt.set_cmap('seismic')\n",
    "    plt.subplots_adjust(top=1, bottom=0, right=1, left=0, hspace=0, wspace=0)\n",
    "    plt.show()"
   ]
  },
  {
   "cell_type": "code",
   "execution_count": 11,
   "id": "4da2f5b3",
   "metadata": {},
   "outputs": [
    {
     "name": "stdout",
     "output_type": "stream",
     "text": [
      "Initialize setup...\n",
      "Initialize done: 0.0 seconds!\n",
      "Initialize Matrix...\n",
      "Initialize done: 0.01 seconds!\n",
      "Calculating....\n",
      "Calculation done: 0.0 seconds!\n"
     ]
    },
    {
     "data": {
      "image/png": "[encoded data removed]",
      "text/plain": [
       "<Figure size 432x288 with 1 Axes>"
      ]
     },
     "metadata": {
      "needs_background": "light"
     },
     "output_type": "display_data"
    },
    {
     "name": "stdout",
     "output_type": "stream",
     "text": [
      "Overall time: 0.07 seconds!\n"
     ]
    }
   ],
   "source": [
    "t2 = time.time()\n",
    "\n",
    "print('Initialize setup...')\n",
    "\n",
    "t0 = time.time()\n",
    "\n",
    "# Initialize setup parameters\n",
    "setup = initialize_julia_sets(-0.7423 + 0.105j, 'x^2+c', -2, 2, -2, 2, 10)\n",
    "func = setup['formula']\n",
    "\n",
    "t1 = time.time()\n",
    "\n",
    "print('Initialize done: ' + str(round(t1 - t0, 2)) + ' seconds!')\n",
    "\n",
    "print('Initialize Matrix...')\n",
    "\n",
    "t0 = time.time()\n",
    "\n",
    "# Initialize matrix\n",
    "matrix = initialize_matrix(setup)\n",
    "\n",
    "t1 = time.time()\n",
    "\n",
    "print('Initialize done: ' + str(round(t1 - t0, 2)) + ' seconds!')\n",
    "\n",
    "converter_list = List()\n",
    "\n",
    "for index in matrix:\n",
    "    converter_list.append(index)\n",
    "\n",
    "print('Calculating....')\n",
    "\n",
    "t0 = time.time()\n",
    "\n",
    "# Change matrix values\n",
    "matrix = change_matrix(converter_list, setup['x_start'], setup['x_end'], setup['y_start'], setup['y_end'], setup['constant_c'], setup['scaling'])\n",
    "\n",
    "t1 = time.time()\n",
    "\n",
    "print('Calculation done: ' + str(round(t1 - t0, 2)) + ' seconds!')\n",
    "create_picture(matrix)\n",
    "\n",
    "t3 = time.time()\n",
    "\n",
    "print('Overall time: ' + str(round(t3 - t2, 2)) + ' seconds!')"
   ]
  },
  {
   "cell_type": "code",
   "execution_count": null,
   "id": "001e57fe",
   "metadata": {},
   "outputs": [],
   "source": []
  }
 ],
 "metadata": {
  "kernelspec": {
   "display_name": "Python 3 (ipykernel)",
   "language": "python",
   "name": "python3"
  },
  "language_info": {
   "codemirror_mode": {
    "name": "ipython",
    "version": 3
   },
   "file_extension": ".py",
   "mimetype": "text/x-python",
   "name": "python",
   "nbconvert_exporter": "python",
   "pygments_lexer": "ipython3",
   "version": "3.10.6"
  }
 },
 "nbformat": 4,
 "nbformat_minor": 5
}
