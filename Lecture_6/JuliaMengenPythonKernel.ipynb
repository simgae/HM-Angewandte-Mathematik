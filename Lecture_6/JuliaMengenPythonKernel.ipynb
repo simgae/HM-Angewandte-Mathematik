{
 "cells": [
  {
   "cell_type": "code",
   "execution_count": 1,
   "id": "277bb427",
   "metadata": {},
   "outputs": [
    {
     "data": {
      "text/html": [
       "<style>.container { width:70% !important; }</style>"
      ],
      "text/plain": [
       "<IPython.core.display.HTML object>"
      ]
     },
     "metadata": {},
     "output_type": "display_data"
    }
   ],
   "source": [
    "# print out each line in the input cell not only the last one\n",
    "from IPython.core.interactiveshell import InteractiveShell\n",
    "InteractiveShell.ast_node_interactivity = \"all\"\n",
    "\n",
    "# expand the cell width to 100% of t \n",
    "from IPython.core.display import display, HTML\n",
    "display(HTML(\"<style>.container { width:70% !important; }</style>\"))"
   ]
  },
  {
   "cell_type": "markdown",
   "id": "85a229ed",
   "metadata": {},
   "source": [
    "# Jupyter-Notebook mit Python Implementierungen für Juliamengen\n",
    "---\n",
    "*Erstellt von: Simon Gärtner*\n",
    "\n",
    "**Bitte führen Sie vor dem Start dieses Notebooks folgende Installierungsbefehle durch:**\n",
    "\n",
    "`sudo pip install numpy`\n",
    "\n",
    "`sudo pip install mathplotlib`\n",
    "\n",
    "`sudo pip install numba`"
   ]
  },
  {
   "cell_type": "markdown",
   "id": "f7a613c4",
   "metadata": {},
   "source": [
    "## Algemeine Methoden für Python und Python-Numba Implementierung:"
   ]
  },
  {
   "cell_type": "code",
   "execution_count": 2,
   "id": "4009326a",
   "metadata": {},
   "outputs": [],
   "source": [
    "import numpy as np\n",
    "import time\n",
    "import matplotlib.pyplot as plt\n",
    "from numba import njit\n",
    "from numba.typed import List "
   ]
  },
  {
   "cell_type": "code",
   "execution_count": 3,
   "id": "b1d17e1e",
   "metadata": {},
   "outputs": [],
   "source": [
    "# analytics class to define class variables for multiplications and additions\n",
    "class Analytics:\n",
    "    multiplications = 0\n",
    "    additions = 0"
   ]
  },
  {
   "cell_type": "code",
   "execution_count": 4,
   "id": "9338b175",
   "metadata": {},
   "outputs": [],
   "source": [
    "def initialize_julia_sets(constant_c, formula, x_start, x_end, y_start, y_end, scaling):\n",
    "    \"\"\"\n",
    "    Initializes the parameters for generating Julia sets.\n",
    "\n",
    "    Args:\n",
    "        constant_c (complex): The constant value used in the Julia set formula.\n",
    "        formula (str): The formula used for generating the Julia set.\n",
    "        x_start (float): The starting value for the x-axis range.\n",
    "        x_end (float): The ending value for the x-axis range.\n",
    "        y_start (float): The starting value for the y-axis range.\n",
    "        y_end (float): The ending value for the y-axis range.\n",
    "        scaling (int): The scaling factor used for incrementing the values.\n",
    "\n",
    "    Returns:\n",
    "        dict: A dictionary containing the initialized parameters for generating Julia sets.\n",
    "            - 'constant_c': The constant value used in the Julia set formula.\n",
    "            - 'formula': The formula used for generating the Julia set.\n",
    "            - 'x_start': The starting value for the x-axis range.\n",
    "            - 'x_end': The ending value for the x-axis range.\n",
    "            - 'y_start': The starting value for the y-axis range.\n",
    "            - 'y_end': The ending value for the y-axis range.\n",
    "            - 'scaling': The scaling factor used for incrementing the values.\n",
    "    \"\"\"\n",
    "    return {\n",
    "        'constant_c': constant_c,\n",
    "        'formula': formula,\n",
    "        'x_start': x_start,\n",
    "        'x_end': x_end,\n",
    "        'y_start': y_start,\n",
    "        'y_end': y_end,\n",
    "        'scaling': scaling\n",
    "    }"
   ]
  },
  {
   "cell_type": "markdown",
   "id": "e175c2bb",
   "metadata": {},
   "source": [
    "## Methoden für Python-Implementierung:"
   ]
  },
  {
   "cell_type": "code",
   "execution_count": 5,
   "id": "511efcaa",
   "metadata": {},
   "outputs": [],
   "source": [
    "def initialize_matrix_python(setup):\n",
    "    \"\"\"\n",
    "    Initializes a matrix using the provided setup parameters.\n",
    "\n",
    "    Args:\n",
    "        setup (dict): A dictionary containing the setup parameters for matrix initialization.\n",
    "\n",
    "    Returns:\n",
    "        Matrix: The initialized matrix.\n",
    "\n",
    "    \"\"\"\n",
    "    matrix_list = []\n",
    "\n",
    "    for col in np.arange(setup['x_start'], setup['x_end'] + 1, 1 / setup['scaling']):\n",
    "        col_list = []\n",
    "\n",
    "        for row in np.arange(setup['y_start'], setup['y_end'] + 1, 1 / setup['scaling']):\n",
    "            col_list.append(col + row * 1j)\n",
    "        matrix_list.append(col_list)\n",
    "\n",
    "    return matrix_list"
   ]
  },
  {
   "cell_type": "code",
   "execution_count": 6,
   "id": "a4ef5c83",
   "metadata": {},
   "outputs": [],
   "source": [
    "def validate_point_python(complex_number, constant_c):\n",
    "    \"\"\"\n",
    "    Validates a complex number using the given constant_c.\n",
    "\n",
    "    Args:\n",
    "        complex_number (complex): The initial complex number to be validated.\n",
    "        constant_c (complex): The constant complex number.\n",
    "\n",
    "    Returns:\n",
    "        int: The number of iterations until the complex number exceeds the validation bounds or the maximum number of iterations is reached.\n",
    "\n",
    "    \"\"\"\n",
    "    run = 200\n",
    "\n",
    "    while -100 < complex_number.real < 100 and run > 0:\n",
    "        complex_number = complex_number * complex_number + constant_c\n",
    "        Analytics.multiplications += 1\n",
    "        Analytics.additions += 1\n",
    "        run -= 1\n",
    "\n",
    "    return run"
   ]
  },
  {
   "cell_type": "code",
   "execution_count": 7,
   "id": "dbfa9bf8",
   "metadata": {},
   "outputs": [],
   "source": [
    "def change_matrix_python(matrix_complex_numbers, x_start, x_end, y_start, y_end, constant, matrix_scaling):\n",
    "    \"\"\"\n",
    "    Changes the matrix of complex numbers using the given constant and scaling.\n",
    "\n",
    "    Args:\n",
    "        matrix_complex_numbers (list): The matrix of complex numbers to be modified.\n",
    "        x_start (float): The starting value of the x-axis.\n",
    "        x_end (float): The ending value of the x-axis.\n",
    "        y_start (float): The starting value of the y-axis.\n",
    "        y_end (float): The ending value of the y-axis.\n",
    "        constant (complex): The constant complex number.\n",
    "        matrix_scaling (int): The scaling factor for the matrix.\n",
    "\n",
    "    Returns:\n",
    "        list: The modified matrix.\n",
    "\n",
    "    \"\"\"\n",
    "    final_matrix = []\n",
    "\n",
    "    for row in range((y_end - y_start) * matrix_scaling + 1):\n",
    "        rows = []\n",
    "        for col in range((x_end - x_start) * matrix_scaling + 1):\n",
    "            rows.append(validate_point_python(matrix_complex_numbers[col][row], constant))\n",
    "        final_matrix.append(rows)\n",
    "\n",
    "    return final_matrix"
   ]
  },
  {
   "cell_type": "markdown",
   "id": "8ad60ee3",
   "metadata": {},
   "source": [
    "## Methoden für Python-Numba Implementierung:"
   ]
  },
  {
   "cell_type": "code",
   "execution_count": 8,
   "id": "3c249266",
   "metadata": {},
   "outputs": [],
   "source": [
    "@njit\n",
    "def initialize_matrix(x_start, x_end, y_start, y_end, scaling):\n",
    "    \"\"\"\n",
    "    Initializes a matrix using the provided setup parameters.\n",
    "\n",
    "    Args:\n",
    "        setup (dict): A dictionary containing the setup parameters for matrix initialization.\n",
    "\n",
    "    Returns:\n",
    "        Matrix: The initialized matrix.\n",
    "\n",
    "    \"\"\"\n",
    "    matrix_list = List()\n",
    "\n",
    "    for col in np.arange(x_start, x_end + 1, 1 / scaling):\n",
    "        col_list = List()\n",
    "\n",
    "        for row in np.arange(y_start, y_end + 1, 1 / scaling):\n",
    "            col_list.append(col + row * 1j)\n",
    "        matrix_list.append(col_list)\n",
    "\n",
    "    return matrix_list"
   ]
  },
  {
   "cell_type": "code",
   "execution_count": 9,
   "id": "8d185da7",
   "metadata": {},
   "outputs": [],
   "source": [
    "@njit\n",
    "def validate_point(complex_number, constant_c):\n",
    "    \"\"\"\n",
    "    Validates a complex number using the given constant_c.\n",
    "\n",
    "    Args:\n",
    "        complex_number (complex): The initial complex number to be validated.\n",
    "        constant_c (complex): The constant complex number.\n",
    "\n",
    "    Returns:\n",
    "        int: The number of iterations until the complex number exceeds the validation bounds or the maximum number of iterations is reached.\n",
    "\n",
    "    \"\"\"\n",
    "    run = 200\n",
    "\n",
    "    while -100 < complex_number.real < 100 and run > 0:\n",
    "        complex_number = complex_number * complex_number + constant_c\n",
    "        run -= 1\n",
    "\n",
    "    return run"
   ]
  },
  {
   "cell_type": "code",
   "execution_count": 10,
   "id": "dd598e0e",
   "metadata": {},
   "outputs": [],
   "source": [
    "@njit\n",
    "def change_matrix(matrix_complex_numbers, x_start, x_end, y_start, y_end, constant, matrix_scaling):\n",
    "    \"\"\"\n",
    "    Changes the matrix of complex numbers using the given constant and scaling.\n",
    "\n",
    "    Args:\n",
    "        matrix_complex_numbers (list): The matrix of complex numbers to be modified.\n",
    "        x_start (float): The starting value of the x-axis.\n",
    "        x_end (float): The ending value of the x-axis.\n",
    "        y_start (float): The starting value of the y-axis.\n",
    "        y_end (float): The ending value of the y-axis.\n",
    "        constant (complex): The constant complex number.\n",
    "        matrix_scaling (int): The scaling factor for the matrix.\n",
    "\n",
    "    Returns:\n",
    "        list: The modified matrix.\n",
    "\n",
    "    \"\"\"\n",
    "    final_matrix = []\n",
    "\n",
    "    for row in range((y_end - y_start) * matrix_scaling + 1):\n",
    "        rows = []\n",
    "        for col in range((x_end - x_start) * matrix_scaling + 1):\n",
    "            rows.append(validate_point(matrix_complex_numbers[col][row], constant))\n",
    "        final_matrix.append(rows)\n",
    "\n",
    "    return final_matrix"
   ]
  },
  {
   "cell_type": "markdown",
   "id": "806065df",
   "metadata": {},
   "source": [
    "## Bild-Generator:"
   ]
  },
  {
   "cell_type": "code",
   "execution_count": 11,
   "id": "1bbb31f5",
   "metadata": {},
   "outputs": [],
   "source": [
    "def create_picture(final_matrix):\n",
    "    \"\"\"\n",
    "    Creates and displays a picture using the final matrix.\n",
    "\n",
    "    Args:\n",
    "        final_matrix: The matrix representing the picture.\n",
    "\n",
    "    \"\"\"\n",
    "    plt.imshow(final_matrix)\n",
    "    plt.axis('off')\n",
    "    plt.axis('tight')\n",
    "    plt.set_cmap('seismic')\n",
    "    plt.subplots_adjust(top=1, bottom=0, right=1, left=0, hspace=0, wspace=0)\n",
    "    plt.show()"
   ]
  },
  {
   "cell_type": "markdown",
   "id": "0d53fb3e",
   "metadata": {},
   "source": [
    "## Start Python-Numba Implementierung:\n",
    "\n",
    "*Hinweis: Die Ausgabe der Anzahl von Multiplikationen und Additionen funktioniert für diese Implementierung nicht, da Numba nicht mit Klassen umgehen kann. Daher wird hier eine 0 ausgegeben*"
   ]
  },
  {
   "cell_type": "code",
   "execution_count": 12,
   "id": "4da2f5b3",
   "metadata": {},
   "outputs": [
    {
     "name": "stdout",
     "output_type": "stream",
     "text": [
      "Initialize setup...\n",
      "Initialize done: 0.0 seconds!\n",
      "Initialize Matrix...\n",
      "Initialize done: 1.56 seconds!\n",
      "Calculating....\n",
      "Calculation done: 0.71 seconds!\n"
     ]
    },
    {
     "data": {
      "image/png": "[encoded data removed]",
      "text/plain": [
       "<Figure size 432x288 with 1 Axes>"
      ]
     },
     "metadata": {
      "needs_background": "light"
     },
     "output_type": "display_data"
    },
    {
     "name": "stdout",
     "output_type": "stream",
     "text": [
      "Overall time: 2.37 seconds!\n",
      "Amount of multiplications: 0\n",
      "Amount of aditions: 0\n"
     ]
    }
   ],
   "source": [
    "t2 = time.time()\n",
    "Analytics.multiplications = 0\n",
    "Analytics.additions = 0\n",
    "\n",
    "print('Initialize setup...')\n",
    "\n",
    "t0 = time.time()\n",
    "\n",
    "# Initialize setup parameters\n",
    "setup = initialize_julia_sets(0, 'x^2+c', -2, 2, -2, 2, 100)\n",
    "func = setup['formula']\n",
    "\n",
    "t1 = time.time()\n",
    "\n",
    "print('Initialize done: ' + str(round(t1 - t0, 2)) + ' seconds!')\n",
    "\n",
    "print('Initialize Matrix...')\n",
    "\n",
    "t0 = time.time()\n",
    "\n",
    "# Initialize matrix\n",
    "matrix = initialize_matrix(setup['x_start'], setup['x_end'], setup['y_start'], setup['y_end'], setup['scaling'])\n",
    "\n",
    "t1 = time.time()\n",
    "\n",
    "print('Initialize done: ' + str(round(t1 - t0, 2)) + ' seconds!')\n",
    "\n",
    "print('Calculating....')\n",
    "t0 = time.time()\n",
    "\n",
    "# Change matrix values\n",
    "matrix = change_matrix(matrix, setup['x_start'], setup['x_end'], setup['y_start'], setup['y_end'], setup['constant_c'], setup['scaling'])\n",
    "\n",
    "t1 = time.time()\n",
    "\n",
    "print('Calculation done: ' + str(round(t1 - t0, 2)) + ' seconds!')\n",
    "create_picture(matrix)\n",
    "\n",
    "t3 = time.time()\n",
    "\n",
    "print('Overall time: ' + str(round(t3 - t2, 2)) + ' seconds!')\n",
    "print('Amount of multiplications: ' + str(Analytics.multiplications))\n",
    "print('Amount of aditions: ' + str(Analytics.additions))"
   ]
  },
  {
   "cell_type": "markdown",
   "id": "592fd3e1",
   "metadata": {},
   "source": [
    "## Start Python Implementierung:"
   ]
  },
  {
   "cell_type": "code",
   "execution_count": 13,
   "id": "f437f512",
   "metadata": {},
   "outputs": [
    {
     "name": "stdout",
     "output_type": "stream",
     "text": [
      "Initialize setup...\n",
      "Initialize done: 0.0 seconds!\n",
      "Initialize Matrix...\n",
      "Initialize done: 0.99 seconds!\n"
     ]
    },
    {
     "name": "stderr",
     "output_type": "stream",
     "text": [
      "/usr/local/lib/python3.10/dist-packages/numba/typed/typedlist.py:82: NumbaPendingDeprecationWarning: \n",
      "Encountered the use of a type that is scheduled for deprecation: type 'reflected list' found for argument 'item' of function 'impl_append.<locals>.impl'.\n",
      "\n",
      "For more information visit https://numba.readthedocs.io/en/stable/reference/deprecation.html#deprecation-of-reflection-for-list-and-set-types\n",
      "\n",
      "File \"../../../usr/local/lib/python3.10/dist-packages/numba/typed/listobject.py\", line 599:\n",
      "\n",
      "    def impl(l, item):\n",
      "    ^\n",
      "\n",
      "  l.append(item)\n",
      "/usr/local/lib/python3.10/dist-packages/numba/core/ir_utils.py:2149: NumbaPendingDeprecationWarning: \n",
      "Encountered the use of a type that is scheduled for deprecation: type 'reflected list' found for argument 'item' of function '_append'.\n",
      "\n",
      "For more information visit https://numba.readthedocs.io/en/stable/reference/deprecation.html#deprecation-of-reflection-for-list-and-set-types\n",
      "\n",
      "File \"../../../usr/local/lib/python3.10/dist-packages/numba/typed/typedlist.py\", line 81:\n",
      "@njit\n",
      "def _append(l, item):\n",
      "^\n",
      "\n",
      "  warnings.warn(NumbaPendingDeprecationWarning(msg, loc=loc))\n"
     ]
    },
    {
     "name": "stdout",
     "output_type": "stream",
     "text": [
      "Calculating....\n",
      "Calculation done: 6.72 seconds!\n"
     ]
    },
    {
     "data": {
      "image/png": "[encoded data removed]",
      "text/plain": [
       "<Figure size 432x288 with 1 Axes>"
      ]
     },
     "metadata": {
      "needs_background": "light"
     },
     "output_type": "display_data"
    },
    {
     "name": "stdout",
     "output_type": "stream",
     "text": [
      "Overall time: 8.4 seconds!\n",
      "Amount of multiplications: 6807266\n",
      "Amount of aditions: 6807266\n"
     ]
    }
   ],
   "source": [
    "t2 = time.time()\n",
    "\n",
    "print('Initialize setup...')\n",
    "Analytics.multiplications = 0\n",
    "Analytics.additions = 0\n",
    "\n",
    "t0 = time.time()\n",
    "\n",
    "\n",
    "# Initialize setup parameters\n",
    "setup = initialize_julia_sets(0, 'x^2+c', -2, 2, -2, 2, 100)\n",
    "func = setup['formula']\n",
    "\n",
    "t1 = time.time()\n",
    "\n",
    "print('Initialize done: ' + str(round(t1 - t0, 2)) + ' seconds!')\n",
    "\n",
    "print('Initialize Matrix...')\n",
    "\n",
    "t0 = time.time()\n",
    "\n",
    "# Initialize matrix\n",
    "matrix = initialize_matrix_python(setup)\n",
    "\n",
    "t1 = time.time()\n",
    "\n",
    "print('Initialize done: ' + str(round(t1 - t0, 2)) + ' seconds!')\n",
    "\n",
    "converter_list = List()\n",
    "\n",
    "for index in matrix:\n",
    "    converter_list.append(index)\n",
    "\n",
    "print('Calculating....')\n",
    "\n",
    "t0 = time.time()\n",
    "\n",
    "# Change matrix values\n",
    "matrix = change_matrix_python(converter_list, setup['x_start'], setup['x_end'], setup['y_start'], setup['y_end'], setup['constant_c'], setup['scaling'])\n",
    "\n",
    "t1 = time.time()\n",
    "\n",
    "print('Calculation done: ' + str(round(t1 - t0, 2)) + ' seconds!')\n",
    "create_picture(matrix)\n",
    "\n",
    "t3 = time.time()\n",
    "\n",
    "print('Overall time: ' + str(round(t3 - t2, 2)) + ' seconds!')\n",
    "print('Amount of multiplications: ' + str(Analytics.multiplications))\n",
    "print('Amount of aditions: ' + str(Analytics.additions))"
   ]
  }
 ],
 "metadata": {
  "kernelspec": {
   "display_name": "Python 3 (ipykernel)",
   "language": "python",
   "name": "python3"
  },
  "language_info": {
   "codemirror_mode": {
    "name": "ipython",
    "version": 3
   },
   "file_extension": ".py",
   "mimetype": "text/x-python",
   "name": "python",
   "nbconvert_exporter": "python",
   "pygments_lexer": "ipython3",
   "version": "3.10.6"
  }
 },
 "nbformat": 4,
 "nbformat_minor": 5
}
