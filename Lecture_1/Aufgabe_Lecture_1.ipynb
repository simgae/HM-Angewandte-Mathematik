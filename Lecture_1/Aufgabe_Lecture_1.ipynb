{
 "cells": [
  {
   "cell_type": "code",
   "execution_count": 1,
   "id": "cbde2398",
   "metadata": {},
   "outputs": [
    {
     "data": {
      "text/html": [
       "<style>.container { width:70% !important; }</style>"
      ],
      "text/plain": [
       "<IPython.core.display.HTML object>"
      ]
     },
     "metadata": {},
     "output_type": "display_data"
    }
   ],
   "source": [
    "# print out each line in the input cell not only the last one\n",
    "from IPython.core.interactiveshell import InteractiveShell\n",
    "InteractiveShell.ast_node_interactivity = \"all\"\n",
    "\n",
    "# expand the cell width to 100% of t \n",
    "from IPython.core.display import display, HTML\n",
    "display(HTML(\"<style>.container { width:70% !important; }</style>\"))"
   ]
  },
  {
   "cell_type": "markdown",
   "id": "b120573d",
   "metadata": {},
   "source": [
    "# Vorlesung 1 - 21. März 2023\n",
    "\n",
    "*Bearbeite folgende Aufgabe bis zur nächsten Vorlesung am 28. März 2023*"
   ]
  },
  {
   "cell_type": "markdown",
   "id": "80777aac",
   "metadata": {},
   "source": [
    "### 4.2.2 Aufgabe\n",
    "\n",
    "Die Ellipse $$9x^2 + 16y^2 = 144$$ soll ein möglichst großes Rechteck einbeschreiben, dessen Seiten parallel zu den Koordinatenachsen sind. Bestimmen Sie die Abmessungen des Rechtecks und zeichnen Sie die Ellipse und das Rechteck in ein Koordinatensystem ein."
   ]
  },
  {
   "cell_type": "markdown",
   "id": "849d0730",
   "metadata": {},
   "source": [
    "---"
   ]
  },
  {
   "cell_type": "markdown",
   "id": "89642bb4",
   "metadata": {},
   "source": [
    "1. **Lösen der Gleichung nach y**\n",
    "\n",
    "Die Ellipse teilt sich in zwei Funktionen auf. Eine beschreibt dabei den unteren Bogen der Ellipse, die andere den oberen."
   ]
  },
  {
   "cell_type": "code",
   "execution_count": 2,
   "id": "6ced042c",
   "metadata": {},
   "outputs": [],
   "source": [
    "x, y = var('x', 'y')\n",
    "\n",
    "term(x, y) = 9 * x^2 + 16 * y^2 - 144\n",
    "\n",
    "ellipse = term(x, y).roots(y)"
   ]
  },
  {
   "cell_type": "markdown",
   "id": "cb20da36",
   "metadata": {},
   "source": [
    "2. **Plotten der beiden Funktionen**\n",
    "\n",
    "g(x) beschreibt in der Ellipse den oberen Bogen (siehe grüne Funktion) und f(x) beschreibt den unteren Bogen (blau)."
   ]
  },
  {
   "cell_type": "code",
   "execution_count": 3,
   "id": "29c3adcb",
   "metadata": {},
   "outputs": [
    {
     "name": "stdout",
     "output_type": "stream",
     "text": [
      "f(x) = -3/4*sqrt(-x^2 + 16)\n",
      "g(x) = 3/4*sqrt(-x^2 + 16)\n"
     ]
    },
    {
     "data": {
      "image/png": "[encoded data removed]",
      "text/plain": [
       "Graphics object consisting of 2 graphics primitives"
      ]
     },
     "execution_count": 3,
     "metadata": {},
     "output_type": "execute_result"
    }
   ],
   "source": [
    "f(x) = ellipse[0][0]\n",
    "g(x) = ellipse[1][0]\n",
    "\n",
    "print('f(x) = ' + str(f(x)))\n",
    "print('g(x) = ' + str(g(x)))\n",
    "\n",
    "plot((f(x), g(x)), xmin = -4, xmax = 4, figsize = 3)"
   ]
  },
  {
   "cell_type": "markdown",
   "id": "154b54f2",
   "metadata": {},
   "source": [
    "3. **Berechnung des Flächeninhaltes des Rechteckes - Formel aufstellen**\n",
    "\n",
    "Da der Mittelpunkt der Ellipse bei (0,0) liegt, ergibt sich folgende Formel für das Rechteck:\n",
    "\n",
    "*Für die Berechnung wird nur eine Funktion benötigt, daher wird aus Gründen der Einfachheit hier mit dem positiven Teil der Funktion gearbeitet g(x).*"
   ]
  },
  {
   "cell_type": "code",
   "execution_count": 4,
   "id": "8d0354df",
   "metadata": {},
   "outputs": [],
   "source": [
    "A(x) = 2 * x * 2 * g(x)"
   ]
  },
  {
   "cell_type": "markdown",
   "id": "c3b9bac7",
   "metadata": {},
   "source": [
    "4. **Berechnung der Extremstellen der Flächeninhaltsfunktion A(x)**"
   ]
  },
  {
   "cell_type": "code",
   "execution_count": 5,
   "id": "fc66c005",
   "metadata": {},
   "outputs": [
    {
     "name": "stdout",
     "output_type": "stream",
     "text": [
      "Hochpunkt bei x1 = 2*sqrt(2) da a``(x1) = -12\n"
     ]
    }
   ],
   "source": [
    "x0, x1 = var('x0', 'x1')\n",
    "\n",
    "a(x) = diff(A(x))\n",
    "\n",
    "result = list(map(lambda sol : sol.rhs(), solve(diff(A(x), x), x)))\n",
    "\n",
    "x0 = result[0]\n",
    "x1 = result[1]\n",
    "\n",
    "adiff(x) = diff(a(x))\n",
    "\n",
    "print('Hochpunkt bei x1 = ' + str(x1) + ' da a``(x1) = ' + str(adiff(x1)))"
   ]
  },
  {
   "cell_type": "markdown",
   "id": "912898ee",
   "metadata": {},
   "source": [
    "5. **Rechteck einzeichnen und Maße berechnen**"
   ]
  },
  {
   "cell_type": "code",
   "execution_count": 6,
   "id": "1081fbb8",
   "metadata": {},
   "outputs": [],
   "source": [
    "lines = line([(-x1,-f(x1)), (x1, -f(x1)), (x1,f(x1)), (-x1,f(x1)), (-x1,-f(x1))], color='red')"
   ]
  },
  {
   "cell_type": "code",
   "execution_count": 7,
   "id": "59d76ad5",
   "metadata": {},
   "outputs": [
    {
     "data": {
      "image/png": "[encoded data removed]",
      "text/plain": [
       "Graphics object consisting of 2 graphics primitives"
      ]
     },
     "metadata": {},
     "output_type": "display_data"
    }
   ],
   "source": [
    "myplot = implicit_plot(term(x,y), (x,-5,5), (y,-5,5))\n",
    "show(myplot + lines)"
   ]
  },
  {
   "cell_type": "code",
   "execution_count": 8,
   "id": "d7898b27",
   "metadata": {},
   "outputs": [
    {
     "name": "stdout",
     "output_type": "stream",
     "text": [
      "Länge: 4*sqrt(2)\n",
      "Höhe: 3*sqrt(2)\n",
      "Flächeninhalt: 24\n"
     ]
    }
   ],
   "source": [
    "laenge = abs(x0) + abs(x1)\n",
    "hoehe = abs(2 * f(x0))\n",
    "flaeche = laenge * hoehe\n",
    "\n",
    "print('Länge: ' + str(laenge))\n",
    "print('Höhe: ' + str(hoehe))\n",
    "print('Flächeninhalt: ' + str(flaeche))"
   ]
  }
 ],
 "metadata": {
  "kernelspec": {
   "display_name": "SageMath 9.5",
   "language": "sage",
   "name": "sagemath"
  },
  "language_info": {
   "codemirror_mode": {
    "name": "ipython",
    "version": 3
   },
   "file_extension": ".py",
   "mimetype": "text/x-python",
   "name": "python",
   "nbconvert_exporter": "python",
   "pygments_lexer": "ipython3",
   "version": "3.10.6"
  }
 },
 "nbformat": 4,
 "nbformat_minor": 5
}
